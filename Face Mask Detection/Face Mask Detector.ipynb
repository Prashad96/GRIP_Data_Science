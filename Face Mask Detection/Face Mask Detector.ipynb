{
  "cells": [
    {
      "cell_type": "markdown",
      "metadata": {
        "id": "view-in-github",
        "colab_type": "text"
      },
      "source": [
        "<a href=\"https://colab.research.google.com/github/Prashad96/GRIP_Internship/blob/main/Face%20Mask%20Detection/Face%20Mask%20Detector.ipynb\" target=\"_parent\"><img src=\"https://colab.research.google.com/assets/colab-badge.svg\" alt=\"Open In Colab\"/></a>"
      ]
    },
    {
      "cell_type": "markdown",
      "id": "293bb987",
      "metadata": {
        "id": "293bb987"
      },
      "source": [
        "# THE SPARKS FOUNDATION - GRIP - Computer Vision and Internet of Things - JULY 2022"
      ]
    },
    {
      "cell_type": "markdown",
      "id": "2ad8808e",
      "metadata": {
        "id": "2ad8808e"
      },
      "source": [
        "# Name : **PRASHAD S P**\n",
        "# Task 1 : **Detection of Face Mask**\n",
        "<hr style=\"border:2px solid gray\">"
      ]
    },
    {
      "cell_type": "markdown",
      "id": "b6608112",
      "metadata": {
        "id": "b6608112"
      },
      "source": [
        "### Aim:\n",
        "  > ## To implement the real time Face Mask Detector\n",
        "<hr style=\"border:2px solid gray\">"
      ]
    },
    {
      "cell_type": "markdown",
      "id": "c5f024dd",
      "metadata": {
        "id": "c5f024dd"
      },
      "source": [
        "## Model used : MobileNetV2\n",
        "  MobileNetV2 is a convolutional neural network architecture that seeks to perform well on mobile devices."
      ]
    },
    {
      "cell_type": "markdown",
      "id": "a834d360",
      "metadata": {
        "id": "a834d360"
      },
      "source": [
        "## Dataset used : Face Mask Detection ~12K Images Dataset\n",
        "\n",
        "## About dataset : \n",
        "  The dataset consists of almost 12K images which are almost 328.92MB in size.This dataset is already divided into three  chunks (train, test, validation).\n",
        "    \n",
        "    \n",
        "  ## Dataset URl : [Face Mask Detection ~12K Images Dataset](https://www.kaggle.com/datasets/ashishjangra27/face-mask-12k-images-dataset)"
      ]
    },
    {
      "cell_type": "markdown",
      "id": "3cf69eec",
      "metadata": {
        "id": "3cf69eec"
      },
      "source": [
        "## Importing the required libraries"
      ]
    },
    {
      "cell_type": "code",
      "execution_count": null,
      "id": "671764b3",
      "metadata": {
        "id": "671764b3"
      },
      "outputs": [],
      "source": [
        "import tensorflow as tf\n",
        "from tensorflow.keras.preprocessing.image import ImageDataGenerator\n",
        "from tensorflow.keras.applications import MobileNetV2\n",
        "from tensorflow.keras import Sequential\n",
        "from tensorflow.keras.layers import Dropout\n",
        "from tensorflow.keras.layers import Flatten\n",
        "from tensorflow.keras.layers import Dense\n",
        "from tensorflow.keras.layers import Input\n",
        "from tensorflow.keras.models import Model\n",
        "from tensorflow.keras.optimizers import Adam\n",
        "from tensorflow.keras.layers import Conv2D,SeparableConv2D,DepthwiseConv2D # for Mobilenet model\n",
        "import matplotlib.pyplot as plt\n",
        "import numpy as np\n",
        "from keras.models import load_model \n",
        "import cv2 "
      ]
    },
    {
      "cell_type": "markdown",
      "id": "9ad2e28e",
      "metadata": {
        "id": "9ad2e28e"
      },
      "source": [
        "## Loading dataset"
      ]
    },
    {
      "cell_type": "code",
      "execution_count": null,
      "id": "90f3a590",
      "metadata": {
        "id": "90f3a590"
      },
      "outputs": [],
      "source": [
        "# Dataset file path\n",
        "train_dir = './Dataset/Face Mask Dataset/Train'\n",
        "test_dir = './Dataset/Face Mask Dataset/Test'\n",
        "val_dir = './Dataset/Face Mask Dataset/Validation'"
      ]
    },
    {
      "cell_type": "code",
      "execution_count": null,
      "id": "0522a974",
      "metadata": {
        "id": "0522a974",
        "outputId": "38165d4f-2778-43a7-a2c0-173e75bea123"
      },
      "outputs": [
        {
          "name": "stdout",
          "output_type": "stream",
          "text": [
            "Found 10000 images belonging to 2 classes.\n",
            "Found 800 images belonging to 2 classes.\n",
            "Found 800 images belonging to 2 classes.\n"
          ]
        }
      ],
      "source": [
        "#Generate batches of tensor image data with real-time data augmentation.\n",
        "train_datagen = ImageDataGenerator(rescale=1.0/255, horizontal_flip=True, zoom_range=0.2,shear_range=0.2,brightness_range=(0.2,1.2))\n",
        "train_generator = train_datagen.flow_from_directory(directory=train_dir,target_size=(128,128),class_mode='binary',batch_size=32)\n",
        "\n",
        "val_datagen = ImageDataGenerator(rescale=1.0/255)\n",
        "val_generator = train_datagen.flow_from_directory(directory=val_dir,target_size=(128,128),class_mode='binary',batch_size=32)\n",
        "\n",
        "test_datagen = ImageDataGenerator(rescale=1.0/255)\n",
        "test_generator = train_datagen.flow_from_directory(directory=val_dir,target_size=(128,128),class_mode='binary',batch_size=32)"
      ]
    },
    {
      "cell_type": "markdown",
      "id": "4c7c5f94",
      "metadata": {
        "id": "4c7c5f94"
      },
      "source": [
        "## Importing the Model \n",
        "## and Customizing Deep Neural Network"
      ]
    },
    {
      "cell_type": "code",
      "execution_count": null,
      "id": "569d2077",
      "metadata": {
        "scrolled": false,
        "id": "569d2077",
        "outputId": "c868b0f9-71ff-42eb-96b5-8b714f4af332"
      },
      "outputs": [
        {
          "name": "stdout",
          "output_type": "stream",
          "text": [
            "Model: \"sequential\"\n",
            "_________________________________________________________________\n",
            " Layer (type)                Output Shape              Param #   \n",
            "=================================================================\n",
            " mobilenetv2_1.00_128 (Funct  (None, 4, 4, 1280)       2257984   \n",
            " ional)                                                          \n",
            "                                                                 \n",
            " separable_conv2d (Separable  (None, 1, 1, 512)        676352    \n",
            " Conv2D)                                                         \n",
            "                                                                 \n",
            " flatten (Flatten)           (None, 512)               0         \n",
            "                                                                 \n",
            " dense (Dense)               (None, 128)               65664     \n",
            "                                                                 \n",
            " dropout (Dropout)           (None, 128)               0         \n",
            "                                                                 \n",
            " dense_1 (Dense)             (None, 1)                 129       \n",
            "                                                                 \n",
            "=================================================================\n",
            "Total params: 3,000,129\n",
            "Trainable params: 742,145\n",
            "Non-trainable params: 2,257,984\n",
            "_________________________________________________________________\n"
          ]
        }
      ],
      "source": [
        "mobilenet = MobileNetV2(weights='imagenet',include_top=False,input_shape=(128,128,3)) #Customizing image shape and Neural network\n",
        "model = Sequential()\n",
        "model.add(mobilenet)\n",
        "model.add(SeparableConv2D(512,4))\n",
        "model.add(Flatten())\n",
        "model.add(Dense(128,activation='relu'))\n",
        "model.add(Dropout(0.5))\n",
        "model.add(Dense(1,activation='sigmoid'))\n",
        "for layer in mobilenet.layers:\n",
        "    layer.trainable = False\n",
        "model.summary()"
      ]
    },
    {
      "cell_type": "markdown",
      "id": "096bbbe1",
      "metadata": {
        "id": "096bbbe1"
      },
      "source": [
        "## Compiling Model "
      ]
    },
    {
      "cell_type": "code",
      "execution_count": null,
      "id": "11877c83",
      "metadata": {
        "id": "11877c83"
      },
      "outputs": [],
      "source": [
        "model.compile(optimizer=\"adam\",loss=\"binary_crossentropy\",metrics =[\"accuracy\"])"
      ]
    },
    {
      "cell_type": "markdown",
      "id": "ea73b4af",
      "metadata": {
        "id": "ea73b4af"
      },
      "source": [
        "## Training the model"
      ]
    },
    {
      "cell_type": "code",
      "execution_count": null,
      "id": "00200843",
      "metadata": {
        "id": "00200843",
        "outputId": "38b9fe87-b571-43c1-f1eb-6087bdd5e67f"
      },
      "outputs": [
        {
          "name": "stdout",
          "output_type": "stream",
          "text": [
            "Epoch 1/5\n",
            "9/9 [==============================] - 32s 3s/step - loss: 0.4760 - accuracy: 0.8056 - val_loss: 0.2115 - val_accuracy: 0.9162\n",
            "Epoch 2/5\n",
            "9/9 [==============================] - 21s 3s/step - loss: 0.2164 - accuracy: 0.9167 - val_loss: 0.1359 - val_accuracy: 0.9500\n",
            "Epoch 3/5\n",
            "9/9 [==============================] - 21s 2s/step - loss: 0.1031 - accuracy: 0.9618 - val_loss: 0.1212 - val_accuracy: 0.9525\n",
            "Epoch 4/5\n",
            "9/9 [==============================] - 21s 2s/step - loss: 0.1082 - accuracy: 0.9618 - val_loss: 0.0865 - val_accuracy: 0.9638\n",
            "Epoch 5/5\n",
            "9/9 [==============================] - 21s 3s/step - loss: 0.0522 - accuracy: 0.9792 - val_loss: 0.1023 - val_accuracy: 0.9563\n"
          ]
        }
      ],
      "source": [
        "history = model.fit(\n",
        "    train_generator,\n",
        "    steps_per_epoch=len(train_generator)//32,\n",
        "    epochs=5,\n",
        "    validation_data=val_generator\n",
        "  )"
      ]
    },
    {
      "cell_type": "markdown",
      "id": "22942c5c",
      "metadata": {
        "id": "22942c5c"
      },
      "source": [
        "## Evaluating the model"
      ]
    },
    {
      "cell_type": "code",
      "execution_count": null,
      "id": "d9566711",
      "metadata": {
        "id": "d9566711",
        "outputId": "dfb63868-ca9e-429f-edcb-d2d4432939a6"
      },
      "outputs": [
        {
          "name": "stdout",
          "output_type": "stream",
          "text": [
            "25/25 [==============================] - 15s 587ms/step - loss: 0.0771 - accuracy: 0.9750\n"
          ]
        },
        {
          "data": {
            "text/plain": [
              "[0.0770995169878006, 0.9750000238418579]"
            ]
          },
          "execution_count": 63,
          "metadata": {},
          "output_type": "execute_result"
        }
      ],
      "source": [
        "model.evaluate(test_generator)"
      ]
    },
    {
      "cell_type": "code",
      "execution_count": null,
      "id": "ec018af1",
      "metadata": {
        "id": "ec018af1"
      },
      "outputs": [],
      "source": [
        "model.save(\"\")"
      ]
    },
    {
      "cell_type": "markdown",
      "id": "7fafb6e6",
      "metadata": {
        "id": "7fafb6e6"
      },
      "source": [
        "## Plotting Accuracy and loss"
      ]
    },
    {
      "cell_type": "code",
      "execution_count": null,
      "id": "424b3858",
      "metadata": {
        "id": "424b3858",
        "outputId": "3c349234-919e-4cce-8404-62937e992f57"
      },
      "outputs": [
        {
          "data": {
            "text/plain": [
              "<matplotlib.legend.Legend at 0x22d99e56100>"
            ]
          },
          "execution_count": 29,
          "metadata": {},
          "output_type": "execute_result"
        },
        {
          "data": {
            "image/png": "[encoded data removed]",
            "text/plain": [
              "<Figure size 720x360 with 1 Axes>"
            ]
          },
          "metadata": {
            "needs_background": "light"
          },
          "output_type": "display_data"
        }
      ],
      "source": [
        "plt.figure(figsize=(10,5))\n",
        "plt.plot(history.history['accuracy'])\n",
        "plt.plot(history.history['val_accuracy'])\n",
        "plt.plot(history.history['val_loss'])\n",
        "plt.plot(history.history['loss'])\n",
        "plt.legend(['accuracy','val_accuracy','val_loss','loss'])"
      ]
    },
    {
      "cell_type": "code",
      "execution_count": null,
      "id": "afa22bfa",
      "metadata": {
        "id": "afa22bfa"
      },
      "outputs": [],
      "source": [
        "from tensorflow.keras.models import load_model\n",
        "model = load_model('face_mask_model_final.h5')"
      ]
    },
    {
      "cell_type": "markdown",
      "id": "b9b33d8e",
      "metadata": {
        "id": "b9b33d8e"
      },
      "source": [
        "## Testing the Model with Real Time Data"
      ]
    },
    {
      "cell_type": "code",
      "execution_count": null,
      "id": "8283c9fc",
      "metadata": {
        "scrolled": false,
        "id": "8283c9fc"
      },
      "outputs": [],
      "source": [
        "labels_dict=['No MASK','MASK']\n",
        "color_dict=[(0,0,255),(0,255,0)]\n",
        "cap = cv2.VideoCapture(0) #Creates a video capture object, which would help stream or display the video.\n",
        "while True:\n",
        "    ok, img = cap.read() # used to read an image or frame\n",
        "    if not ok:\n",
        "        print('Video Ending')\n",
        "        cap.release()\n",
        "        # Close all window\n",
        "        cv2.destroyAllWindows()\n",
        "        break \n",
        "    resize = cv2.resize(img,(128,128))# Preprocess image, suitable for the model\n",
        "    resize = resize/255.\n",
        "    resize=np.reshape(resize,(1,128,128,3))\n",
        "    out = model(resize)\n",
        "    res = np.argmax(out,axis=1)[0]\n",
        "    # returns index of maximum value\n",
        "    cv2.putText(img, labels_dict[label], (200,200),cv2.FONT_HERSHEY_SIMPLEX,0.8,color_dict[label],2)\n",
        "    # Puts the text on the screen with the position of (200,200) and font name\n",
        "    cv2.imshow('img', img)\n",
        "    # quit Press Key Q to quit and Close window\n",
        "    if cv2.waitKey(1) & 0xFF == ord('q'): \n",
        "        # Release the VideoCapture object\n",
        "        cap.release()\n",
        "        # Close all window\n",
        "        cv2.destroyAllWindows()\n",
        "        break\n",
        "\n",
        "\n"
      ]
    }
  ],
  "metadata": {
    "kernelspec": {
      "display_name": "Python 3 (ipykernel)",
      "language": "python",
      "name": "python3"
    },
    "language_info": {
      "codemirror_mode": {
        "name": "ipython",
        "version": 3
      },
      "file_extension": ".py",
      "mimetype": "text/x-python",
      "name": "python",
      "nbconvert_exporter": "python",
      "pygments_lexer": "ipython3",
      "version": "3.9.12"
    },
    "colab": {
      "name": "Face Mask Detector.ipynb",
      "provenance": [],
      "include_colab_link": true
    }
  },
  "nbformat": 4,
  "nbformat_minor": 5
}