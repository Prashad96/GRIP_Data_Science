{
  "cells": [
    {
      "cell_type": "markdown",
      "metadata": {
        "id": "view-in-github",
        "colab_type": "text"
      },
      "source": [
        "<a href=\"https://colab.research.google.com/github/Prashad96/GRIP_Data_Science/blob/main/Prediction%20using%20Supervised%20ML/Mark_prediction.ipynb\" target=\"_parent\"><img src=\"https://colab.research.google.com/assets/colab-badge.svg\" alt=\"Open In Colab\"/></a>"
      ]
    },
    {
      "cell_type": "markdown",
      "source": [
        "# Name : PRASHAD S P\n",
        "# Task 1 : Prediction using Supervised ML"
      ],
      "metadata": {
        "id": "-01RZiN2v5Q-"
      },
      "id": "-01RZiN2v5Q-"
    },
    {
      "cell_type": "code",
      "execution_count": 43,
      "id": "d5c6152a",
      "metadata": {
        "id": "d5c6152a"
      },
      "outputs": [],
      "source": [
        "from sklearn.linear_model import LinearRegression\n",
        "import matplotlib.pyplot as plt\n",
        "import pandas as pd\n",
        "import numpy as np\n",
        "from sklearn.model_selection import train_test_split\n",
        "from sklearn.metrics import mean_squared_error"
      ]
    },
    {
      "cell_type": "code",
      "execution_count": 2,
      "id": "ae1547e6",
      "metadata": {
        "id": "ae1547e6"
      },
      "outputs": [],
      "source": [
        "data = pd.read_csv('data.csv')"
      ]
    },
    {
      "cell_type": "code",
      "execution_count": 46,
      "id": "9d4452c7",
      "metadata": {
        "id": "9d4452c7"
      },
      "outputs": [],
      "source": [
        "x = data['Hours']\n",
        "y = data['Scores']\n",
        "y = y[:,np.newaxis]\n",
        "x = x[:,np.newaxis]"
      ]
    },
    {
      "cell_type": "code",
      "execution_count": 4,
      "id": "407feeca",
      "metadata": {
        "id": "407feeca"
      },
      "outputs": [],
      "source": [
        "X_train, X_test, y_train, y_test = train_test_split(x,y,test_size=.2)"
      ]
    },
    {
      "cell_type": "code",
      "execution_count": 51,
      "id": "6601f14a",
      "metadata": {
        "colab": {
          "base_uri": "https://localhost:8080/",
          "height": 312
        },
        "id": "6601f14a",
        "outputId": "394a72ef-22b3-4d75-fcc4-82be83c2bfe0"
      },
      "outputs": [
        {
          "output_type": "execute_result",
          "data": {
            "text/plain": [
              "<matplotlib.collections.PathCollection at 0x7fe9eb758210>"
            ]
          },
          "metadata": {},
          "execution_count": 51
        },
        {
          "output_type": "display_data",
          "data": {
            "text/plain": [
              "<Figure size 432x288 with 1 Axes>"
            ],
            "image/png": "[encoded data removed]"
          },
          "metadata": {
            "needs_background": "light"
          }
        }
      ],
      "source": [
        "# plotting train data\n",
        "plt.title(\"Visualizing training data\")\n",
        "plt.xlabel('Study hours')\n",
        "plt.ylabel('Marks obtained')\n",
        "plt.scatter(X_train,y_train)"
      ]
    },
    {
      "cell_type": "code",
      "execution_count": 50,
      "id": "89d03c63",
      "metadata": {
        "id": "89d03c63"
      },
      "outputs": [],
      "source": [
        "# Training the model\n",
        "model = LinearRegression().fit(X_train,y_train)"
      ]
    },
    {
      "cell_type": "code",
      "execution_count": 7,
      "id": "e247d288",
      "metadata": {
        "id": "e247d288"
      },
      "outputs": [],
      "source": [
        "y_pred = model.predict(X_test)"
      ]
    },
    {
      "cell_type": "code",
      "execution_count": 52,
      "id": "7baabb4b",
      "metadata": {
        "colab": {
          "base_uri": "https://localhost:8080/",
          "height": 312
        },
        "id": "7baabb4b",
        "outputId": "8550835c-60c9-4bd6-e9e2-75b642891ac6"
      },
      "outputs": [
        {
          "output_type": "execute_result",
          "data": {
            "text/plain": [
              "[<matplotlib.lines.Line2D at 0x7fe9f410fdd0>]"
            ]
          },
          "metadata": {},
          "execution_count": 52
        },
        {
          "output_type": "display_data",
          "data": {
            "text/plain": [
              "<Figure size 432x288 with 1 Axes>"
            ],
            "image/png": "[encoded data removed]"
          },
          "metadata": {
            "needs_background": "light"
          }
        }
      ],
      "source": [
        "# Visualizing the predictions\n",
        "plt.title(\"Visualizing the trained model\")\n",
        "plt.xlabel('Study hours')\n",
        "plt.ylabel('Marks obtained')\n",
        "plt.scatter(X_train,y_train,c='r')\n",
        "plt.plot(X_train,model.predict(X_train))"
      ]
    },
    {
      "cell_type": "code",
      "execution_count": 53,
      "id": "35ccb0a2",
      "metadata": {
        "colab": {
          "base_uri": "https://localhost:8080/",
          "height": 312
        },
        "id": "35ccb0a2",
        "outputId": "d9e1cd2c-cf9c-403b-e1e9-0dce74d7fa3a"
      },
      "outputs": [
        {
          "output_type": "execute_result",
          "data": {
            "text/plain": [
              "[<matplotlib.lines.Line2D at 0x7fe9f73f1a50>]"
            ]
          },
          "metadata": {},
          "execution_count": 53
        },
        {
          "output_type": "display_data",
          "data": {
            "text/plain": [
              "<Figure size 432x288 with 1 Axes>"
            ],
            "image/png": "[encoded data removed]"
          },
          "metadata": {
            "needs_background": "light"
          }
        }
      ],
      "source": [
        "plt.title(\"Visualizing the Predictions\")\n",
        "plt.xlabel('Study hours')\n",
        "plt.ylabel('Marks obtained')\n",
        "plt.scatter(X_test,y_test,c='r')\n",
        "plt.plot(X_train,model.predict(X_train))"
      ]
    },
    {
      "cell_type": "code",
      "execution_count": 48,
      "id": "9f9f75d9",
      "metadata": {
        "colab": {
          "base_uri": "https://localhost:8080/"
        },
        "id": "9f9f75d9",
        "outputId": "8e3d31d9-e1f0-41e6-ebb0-8ab9f681a6b9"
      },
      "outputs": [
        {
          "output_type": "stream",
          "name": "stdout",
          "text": [
            "Mean Squared Error :  6.913696708313877\n"
          ]
        }
      ],
      "source": [
        "print('Mean Squared Error : ',mean_squared_error(y_test,y_pred,squared=False))"
      ]
    },
    {
      "cell_type": "code",
      "execution_count": 11,
      "id": "a26e9d58",
      "metadata": {
        "colab": {
          "base_uri": "https://localhost:8080/"
        },
        "id": "a26e9d58",
        "outputId": "bc5b16a4-12f5-46b3-dabf-71c329ec7c50"
      },
      "outputs": [
        {
          "output_type": "stream",
          "name": "stdout",
          "text": [
            "[[91.26720972]]\n"
          ]
        }
      ],
      "source": [
        "print(model.predict([[9.25]]))"
      ]
    }
  ],
  "metadata": {
    "kernelspec": {
      "display_name": "Python 3",
      "language": "python",
      "name": "python3"
    },
    "language_info": {
      "codemirror_mode": {
        "name": "ipython",
        "version": 3
      },
      "file_extension": ".py",
      "mimetype": "text/x-python",
      "name": "python",
      "nbconvert_exporter": "python",
      "pygments_lexer": "ipython3",
      "version": "3.8.8"
    },
    "colab": {
      "name": "Mark_Prediction.ipynb",
      "provenance": [],
      "collapsed_sections": [],
      "include_colab_link": true
    }
  },
  "nbformat": 4,
  "nbformat_minor": 5
}