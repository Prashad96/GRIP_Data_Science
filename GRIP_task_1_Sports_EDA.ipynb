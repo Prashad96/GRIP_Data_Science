{
  "cells": [
    {
      "cell_type": "markdown",
      "metadata": {
        "id": "view-in-github",
        "colab_type": "text"
      },
      "source": [
        "<a href=\"https://colab.research.google.com/github/Prashad96/GRIP_Data_Science/blob/main/GRIP_task_1_Sports_EDA.ipynb\" target=\"_parent\"><img src=\"https://colab.research.google.com/assets/colab-badge.svg\" alt=\"Open In Colab\"/></a>"
      ]
    },
    {
      "cell_type": "markdown",
      "id": "eb2cbf54",
      "metadata": {
        "id": "eb2cbf54"
      },
      "source": [
        "# THE SPARKS FOUNDATION - GRIP - Data Science and Business Analytics - JUNE 2022"
      ]
    },
    {
      "cell_type": "markdown",
      "id": "af2b7dcb",
      "metadata": {
        "id": "af2b7dcb"
      },
      "source": [
        "# Name : **PRASHAD S P**\n",
        "# Task 1 : **Exploratory Data Analysis - Sports**\n",
        "<hr style=\"border:2px solid gray\">"
      ]
    },
    {
      "cell_type": "markdown",
      "id": "62673381",
      "metadata": {
        "id": "62673381"
      },
      "source": [
        "### Aim:\n",
        "  > ## To perform 'Exploratory Data Analysis\" on the dataset \"Indian Premier League\"\n",
        "<hr style=\"border:2px solid gray\">"
      ]
    },
    {
      "cell_type": "markdown",
      "id": "a32f93f5",
      "metadata": {
        "id": "a32f93f5"
      },
      "source": [
        "## Objective\n",
        "\n",
        " >### To find out the Most Successful teams, Players and factors that are contribute to team's victory or defeat \n",
        " \n",
        "***"
      ]
    },
    {
      "cell_type": "markdown",
      "id": "a3e33482",
      "metadata": {
        "id": "a3e33482"
      },
      "source": [
        "## Importing the required libraries"
      ]
    },
    {
      "cell_type": "code",
      "execution_count": null,
      "id": "3485fd13",
      "metadata": {
        "id": "3485fd13"
      },
      "outputs": [],
      "source": [
        "import pandas as pd # For Data Analysis\n",
        "import matplotlib.pyplot as plt # for Data  Visualization\n",
        "import seaborn as sns # for Data visualization"
      ]
    },
    {
      "cell_type": "markdown",
      "id": "08d96670",
      "metadata": {
        "id": "08d96670"
      },
      "source": [
        "## Loading the Dataset"
      ]
    },
    {
      "cell_type": "markdown",
      "id": "60da15a0",
      "metadata": {
        "id": "60da15a0"
      },
      "source": [
        "## About Dataset\n",
        "   >### Both the matches.csv and deliveries.csv datasets only have data between 2008 and 2019. So this data analysis may not applicable to 2022.\n",
        "\n",
        "  ## Dataset URl : [Indian Premier League.zip](https://drive.google.com/file/d/18iDDIIZGt8eWxzqbyMIqcn5X7bHINuLw/view?usp=sharing)"
      ]
    },
    {
      "cell_type": "code",
      "execution_count": null,
      "id": "d7c224cd",
      "metadata": {
        "id": "d7c224cd"
      },
      "outputs": [],
      "source": [
        "#! gdown 18iDDIIZGt8eWxzqbyMIqcn5X7bHINuLw # To load dataset from google drive to excute in  Google Colab\n",
        "#!unzip \"Indian Premier League.zip\" # unzip it \n",
        "match_ds = pd.read_csv(\"matches.csv\")\n",
        "delivery_ds = pd.read_csv(\"deliveries.csv\")"
      ]
    },
    {
      "cell_type": "markdown",
      "id": "f7516367",
      "metadata": {
        "id": "f7516367"
      },
      "source": [
        "## Visualizing the Dataset"
      ]
    },
    {
      "cell_type": "code",
      "execution_count": null,
      "id": "1d7c384e",
      "metadata": {
        "colab": {
          "base_uri": "https://localhost:8080/"
        },
        "id": "1d7c384e",
        "outputId": "5e4c09f5-4346-4729-a84e-3c1da8def7cf"
      },
      "outputs": [
        {
          "data": {
            "text/plain": [
              "(756, 18)"
            ]
          },
          "execution_count": 4,
          "metadata": {},
          "output_type": "execute_result"
        }
      ],
      "source": [
        "match_ds.shape # shape of match_ds \n",
        "#rows = 756, column=18"
      ]
    },
    {
      "cell_type": "code",
      "execution_count": null,
      "id": "351260e4",
      "metadata": {
        "colab": {
          "base_uri": "https://localhost:8080/"
        },
        "id": "351260e4",
        "outputId": "03ad585a-3cb9-4a48-e8a8-5b2ec8129111"
      },
      "outputs": [
        {
          "name": "stdout",
          "output_type": "stream",
          "text": [
            "<class 'pandas.core.frame.DataFrame'>\n",
            "RangeIndex: 756 entries, 0 to 755\n",
            "Data columns (total 18 columns):\n",
            " #   Column           Non-Null Count  Dtype \n",
            "---  ------           --------------  ----- \n",
            " 0   id               756 non-null    int64 \n",
            " 1   season           756 non-null    int64 \n",
            " 2   city             749 non-null    object\n",
            " 3   date             756 non-null    object\n",
            " 4   team1            756 non-null    object\n",
            " 5   team2            756 non-null    object\n",
            " 6   toss_winner      756 non-null    object\n",
            " 7   toss_decision    756 non-null    object\n",
            " 8   result           756 non-null    object\n",
            " 9   dl_applied       756 non-null    int64 \n",
            " 10  winner           752 non-null    object\n",
            " 11  win_by_runs      756 non-null    int64 \n",
            " 12  win_by_wickets   756 non-null    int64 \n",
            " 13  player_of_match  752 non-null    object\n",
            " 14  venue            756 non-null    object\n",
            " 15  umpire1          754 non-null    object\n",
            " 16  umpire2          754 non-null    object\n",
            " 17  umpire3          119 non-null    object\n",
            "dtypes: int64(5), object(13)\n",
            "memory usage: 106.4+ KB\n"
          ]
        }
      ],
      "source": [
        "match_ds.info()# gives information about columns and it's datatype"
      ]
    },
    {
      "cell_type": "code",
      "execution_count": null,
      "id": "d14a20e7",
      "metadata": {
        "colab": {
          "base_uri": "https://localhost:8080/"
        },
        "id": "d14a20e7",
        "outputId": "f3e01ee1-ed7b-40fe-e578-df9bbbf0e8a5"
      },
      "outputs": [
        {
          "data": {
            "text/plain": [
              "id                                    11\n",
              "season                              2017\n",
              "city                             Kolkata\n",
              "date                          2017-04-13\n",
              "team1                    Kings XI Punjab\n",
              "team2              Kolkata Knight Riders\n",
              "toss_winner        Kolkata Knight Riders\n",
              "toss_decision                      field\n",
              "result                            normal\n",
              "dl_applied                             0\n",
              "winner             Kolkata Knight Riders\n",
              "win_by_runs                            0\n",
              "win_by_wickets                         8\n",
              "player_of_match                SP Narine\n",
              "venue                       Eden Gardens\n",
              "umpire1                       A Deshmukh\n",
              "umpire2                         NJ Llong\n",
              "umpire3                              NaN\n",
              "Name: 10, dtype: object"
            ]
          },
          "execution_count": 6,
          "metadata": {},
          "output_type": "execute_result"
        }
      ],
      "source": [
        "match_ds.iloc[10] # getting row data by index"
      ]
    },
    {
      "cell_type": "code",
      "execution_count": null,
      "id": "880b5fac",
      "metadata": {
        "colab": {
          "base_uri": "https://localhost:8080/",
          "height": 468
        },
        "id": "880b5fac",
        "outputId": "51e2766a-c5d3-465c-b721-c2f43e86f0cd"
      },
      "outputs": [
        {
          "data": {
            "text/html": [
              "<div>\n",
              "<style scoped>\n",
              "    .dataframe tbody tr th:only-of-type {\n",
              "        vertical-align: middle;\n",
              "    }\n",
              "\n",
              "    .dataframe tbody tr th {\n",
              "        vertical-align: top;\n",
              "    }\n",
              "\n",
              "    .dataframe thead th {\n",
              "        text-align: right;\n",
              "    }\n",
              "</style>\n",
              "<table border=\"1\" class=\"dataframe\">\n",
              "  <thead>\n",
              "    <tr style=\"text-align: right;\">\n",
              "      <th></th>\n",
              "      <th>id</th>\n",
              "      <th>season</th>\n",
              "      <th>city</th>\n",
              "      <th>date</th>\n",
              "      <th>team1</th>\n",
              "      <th>team2</th>\n",
              "      <th>toss_winner</th>\n",
              "      <th>toss_decision</th>\n",
              "      <th>result</th>\n",
              "      <th>dl_applied</th>\n",
              "      <th>winner</th>\n",
              "      <th>win_by_runs</th>\n",
              "      <th>win_by_wickets</th>\n",
              "      <th>player_of_match</th>\n",
              "      <th>venue</th>\n",
              "      <th>umpire1</th>\n",
              "      <th>umpire2</th>\n",
              "      <th>umpire3</th>\n",
              "    </tr>\n",
              "  </thead>\n",
              "  <tbody>\n",
              "    <tr>\n",
              "      <th>0</th>\n",
              "      <td>False</td>\n",
              "      <td>False</td>\n",
              "      <td>False</td>\n",
              "      <td>False</td>\n",
              "      <td>False</td>\n",
              "      <td>False</td>\n",
              "      <td>False</td>\n",
              "      <td>False</td>\n",
              "      <td>False</td>\n",
              "      <td>False</td>\n",
              "      <td>False</td>\n",
              "      <td>False</td>\n",
              "      <td>False</td>\n",
              "      <td>False</td>\n",
              "      <td>False</td>\n",
              "      <td>False</td>\n",
              "      <td>False</td>\n",
              "      <td>True</td>\n",
              "    </tr>\n",
              "    <tr>\n",
              "      <th>1</th>\n",
              "      <td>False</td>\n",
              "      <td>False</td>\n",
              "      <td>False</td>\n",
              "      <td>False</td>\n",
              "      <td>False</td>\n",
              "      <td>False</td>\n",
              "      <td>False</td>\n",
              "      <td>False</td>\n",
              "      <td>False</td>\n",
              "      <td>False</td>\n",
              "      <td>False</td>\n",
              "      <td>False</td>\n",
              "      <td>False</td>\n",
              "      <td>False</td>\n",
              "      <td>False</td>\n",
              "      <td>False</td>\n",
              "      <td>False</td>\n",
              "      <td>True</td>\n",
              "    </tr>\n",
              "    <tr>\n",
              "      <th>2</th>\n",
              "      <td>False</td>\n",
              "      <td>False</td>\n",
              "      <td>False</td>\n",
              "      <td>False</td>\n",
              "      <td>False</td>\n",
              "      <td>False</td>\n",
              "      <td>False</td>\n",
              "      <td>False</td>\n",
              "      <td>False</td>\n",
              "      <td>False</td>\n",
              "      <td>False</td>\n",
              "      <td>False</td>\n",
              "      <td>False</td>\n",
              "      <td>False</td>\n",
              "      <td>False</td>\n",
              "      <td>False</td>\n",
              "      <td>False</td>\n",
              "      <td>True</td>\n",
              "    </tr>\n",
              "    <tr>\n",
              "      <th>3</th>\n",
              "      <td>False</td>\n",
              "      <td>False</td>\n",
              "      <td>False</td>\n",
              "      <td>False</td>\n",
              "      <td>False</td>\n",
              "      <td>False</td>\n",
              "      <td>False</td>\n",
              "      <td>False</td>\n",
              "      <td>False</td>\n",
              "      <td>False</td>\n",
              "      <td>False</td>\n",
              "      <td>False</td>\n",
              "      <td>False</td>\n",
              "      <td>False</td>\n",
              "      <td>False</td>\n",
              "      <td>False</td>\n",
              "      <td>False</td>\n",
              "      <td>True</td>\n",
              "    </tr>\n",
              "    <tr>\n",
              "      <th>4</th>\n",
              "      <td>False</td>\n",
              "      <td>False</td>\n",
              "      <td>False</td>\n",
              "      <td>False</td>\n",
              "      <td>False</td>\n",
              "      <td>False</td>\n",
              "      <td>False</td>\n",
              "      <td>False</td>\n",
              "      <td>False</td>\n",
              "      <td>False</td>\n",
              "      <td>False</td>\n",
              "      <td>False</td>\n",
              "      <td>False</td>\n",
              "      <td>False</td>\n",
              "      <td>False</td>\n",
              "      <td>True</td>\n",
              "      <td>True</td>\n",
              "      <td>True</td>\n",
              "    </tr>\n",
              "    <tr>\n",
              "      <th>...</th>\n",
              "      <td>...</td>\n",
              "      <td>...</td>\n",
              "      <td>...</td>\n",
              "      <td>...</td>\n",
              "      <td>...</td>\n",
              "      <td>...</td>\n",
              "      <td>...</td>\n",
              "      <td>...</td>\n",
              "      <td>...</td>\n",
              "      <td>...</td>\n",
              "      <td>...</td>\n",
              "      <td>...</td>\n",
              "      <td>...</td>\n",
              "      <td>...</td>\n",
              "      <td>...</td>\n",
              "      <td>...</td>\n",
              "      <td>...</td>\n",
              "      <td>...</td>\n",
              "    </tr>\n",
              "    <tr>\n",
              "      <th>751</th>\n",
              "      <td>False</td>\n",
              "      <td>False</td>\n",
              "      <td>False</td>\n",
              "      <td>False</td>\n",
              "      <td>False</td>\n",
              "      <td>False</td>\n",
              "      <td>False</td>\n",
              "      <td>False</td>\n",
              "      <td>False</td>\n",
              "      <td>False</td>\n",
              "      <td>False</td>\n",
              "      <td>False</td>\n",
              "      <td>False</td>\n",
              "      <td>False</td>\n",
              "      <td>False</td>\n",
              "      <td>False</td>\n",
              "      <td>False</td>\n",
              "      <td>False</td>\n",
              "    </tr>\n",
              "    <tr>\n",
              "      <th>752</th>\n",
              "      <td>False</td>\n",
              "      <td>False</td>\n",
              "      <td>False</td>\n",
              "      <td>False</td>\n",
              "      <td>False</td>\n",
              "      <td>False</td>\n",
              "      <td>False</td>\n",
              "      <td>False</td>\n",
              "      <td>False</td>\n",
              "      <td>False</td>\n",
              "      <td>False</td>\n",
              "      <td>False</td>\n",
              "      <td>False</td>\n",
              "      <td>False</td>\n",
              "      <td>False</td>\n",
              "      <td>False</td>\n",
              "      <td>False</td>\n",
              "      <td>False</td>\n",
              "    </tr>\n",
              "    <tr>\n",
              "      <th>753</th>\n",
              "      <td>False</td>\n",
              "      <td>False</td>\n",
              "      <td>False</td>\n",
              "      <td>False</td>\n",
              "      <td>False</td>\n",
              "      <td>False</td>\n",
              "      <td>False</td>\n",
              "      <td>False</td>\n",
              "      <td>False</td>\n",
              "      <td>False</td>\n",
              "      <td>False</td>\n",
              "      <td>False</td>\n",
              "      <td>False</td>\n",
              "      <td>False</td>\n",
              "      <td>False</td>\n",
              "      <td>True</td>\n",
              "      <td>True</td>\n",
              "      <td>True</td>\n",
              "    </tr>\n",
              "    <tr>\n",
              "      <th>754</th>\n",
              "      <td>False</td>\n",
              "      <td>False</td>\n",
              "      <td>False</td>\n",
              "      <td>False</td>\n",
              "      <td>False</td>\n",
              "      <td>False</td>\n",
              "      <td>False</td>\n",
              "      <td>False</td>\n",
              "      <td>False</td>\n",
              "      <td>False</td>\n",
              "      <td>False</td>\n",
              "      <td>False</td>\n",
              "      <td>False</td>\n",
              "      <td>False</td>\n",
              "      <td>False</td>\n",
              "      <td>False</td>\n",
              "      <td>False</td>\n",
              "      <td>False</td>\n",
              "    </tr>\n",
              "    <tr>\n",
              "      <th>755</th>\n",
              "      <td>False</td>\n",
              "      <td>False</td>\n",
              "      <td>False</td>\n",
              "      <td>False</td>\n",
              "      <td>False</td>\n",
              "      <td>False</td>\n",
              "      <td>False</td>\n",
              "      <td>False</td>\n",
              "      <td>False</td>\n",
              "      <td>False</td>\n",
              "      <td>False</td>\n",
              "      <td>False</td>\n",
              "      <td>False</td>\n",
              "      <td>False</td>\n",
              "      <td>False</td>\n",
              "      <td>False</td>\n",
              "      <td>False</td>\n",
              "      <td>False</td>\n",
              "    </tr>\n",
              "  </tbody>\n",
              "</table>\n",
              "<p>756 rows × 18 columns</p>\n",
              "</div>"
            ],
            "text/plain": [
              "        id  season   city   date  team1  team2  toss_winner  toss_decision  \\\n",
              "0    False   False  False  False  False  False        False          False   \n",
              "1    False   False  False  False  False  False        False          False   \n",
              "2    False   False  False  False  False  False        False          False   \n",
              "3    False   False  False  False  False  False        False          False   \n",
              "4    False   False  False  False  False  False        False          False   \n",
              "..     ...     ...    ...    ...    ...    ...          ...            ...   \n",
              "751  False   False  False  False  False  False        False          False   \n",
              "752  False   False  False  False  False  False        False          False   \n",
              "753  False   False  False  False  False  False        False          False   \n",
              "754  False   False  False  False  False  False        False          False   \n",
              "755  False   False  False  False  False  False        False          False   \n",
              "\n",
              "     result  dl_applied  winner  win_by_runs  win_by_wickets  player_of_match  \\\n",
              "0     False       False   False        False           False            False   \n",
              "1     False       False   False        False           False            False   \n",
              "2     False       False   False        False           False            False   \n",
              "3     False       False   False        False           False            False   \n",
              "4     False       False   False        False           False            False   \n",
              "..      ...         ...     ...          ...             ...              ...   \n",
              "751   False       False   False        False           False            False   \n",
              "752   False       False   False        False           False            False   \n",
              "753   False       False   False        False           False            False   \n",
              "754   False       False   False        False           False            False   \n",
              "755   False       False   False        False           False            False   \n",
              "\n",
              "     venue  umpire1  umpire2  umpire3  \n",
              "0    False    False    False     True  \n",
              "1    False    False    False     True  \n",
              "2    False    False    False     True  \n",
              "3    False    False    False     True  \n",
              "4    False     True     True     True  \n",
              "..     ...      ...      ...      ...  \n",
              "751  False    False    False    False  \n",
              "752  False    False    False    False  \n",
              "753  False     True     True     True  \n",
              "754  False    False    False    False  \n",
              "755  False    False    False    False  \n",
              "\n",
              "[756 rows x 18 columns]"
            ]
          },
          "execution_count": 7,
          "metadata": {},
          "output_type": "execute_result"
        }
      ],
      "source": [
        "match_ds.isnull() #checking for empty values\n",
        "# ignore the last column "
      ]
    },
    {
      "cell_type": "code",
      "execution_count": null,
      "id": "ccfebfe5",
      "metadata": {
        "colab": {
          "base_uri": "https://localhost:8080/"
        },
        "id": "ccfebfe5",
        "outputId": "b9e0762a-8e1e-47e1-a804-de4fa4179521"
      },
      "outputs": [
        {
          "data": {
            "text/plain": [
              "array([2017, 2008, 2009, 2010, 2011, 2012, 2013, 2014, 2015, 2016, 2018,\n",
              "       2019], dtype=int64)"
            ]
          },
          "execution_count": 8,
          "metadata": {},
          "output_type": "execute_result"
        }
      ],
      "source": [
        "match_ds[\"season\"].unique() # Returns unique values in particular column"
      ]
    },
    {
      "cell_type": "code",
      "execution_count": null,
      "id": "e503e76f",
      "metadata": {
        "colab": {
          "base_uri": "https://localhost:8080/"
        },
        "id": "e503e76f",
        "outputId": "f51a6963-2204-4df6-e015-771d2ca8dfc9"
      },
      "outputs": [
        {
          "data": {
            "text/plain": [
              "array(['Sunrisers Hyderabad', 'Mumbai Indians', 'Gujarat Lions',\n",
              "       'Rising Pune Supergiant', 'Royal Challengers Bangalore',\n",
              "       'Kolkata Knight Riders', 'Delhi Daredevils', 'Kings XI Punjab',\n",
              "       'Chennai Super Kings', 'Rajasthan Royals', 'Deccan Chargers',\n",
              "       'Kochi Tuskers Kerala', 'Pune Warriors', 'Rising Pune Supergiants',\n",
              "       'Delhi Capitals'], dtype=object)"
            ]
          },
          "execution_count": 9,
          "metadata": {},
          "output_type": "execute_result"
        }
      ],
      "source": [
        "match_ds[\"team1\"].unique()"
      ]
    },
    {
      "cell_type": "code",
      "execution_count": null,
      "id": "e4bb68aa",
      "metadata": {
        "id": "e4bb68aa"
      },
      "outputs": [],
      "source": [
        "# 'Rising Pune Supergiant' and 'Rising Pune Supergiants' are same team with small splelling corrrection,\n",
        "#'Delhi Daredevils' was rename as 'Delhi Capitals' in 2018\n",
        "# Replace these two instances with one single value in all four columns\n",
        "match_ds.team1.replace({'Rising Pune Supergiants' : 'Rising Pune Supergiant', 'Delhi Daredevils':'Delhi Capitals'},inplace=True)\n",
        "match_ds.toss_winner.replace({'Rising Pune Supergiants' : 'Rising Pune Supergiant', 'Delhi Daredevils':'Delhi Capitals'},inplace=True)\n",
        "match_ds.team2.replace({'Rising Pune Supergiants' : 'Rising Pune Supergiant', 'Delhi Daredevils':'Delhi Capitals'},inplace=True)\n",
        "match_ds.winner.replace({'Rising Pune Supergiants' : 'Rising Pune Supergiant', 'Delhi Daredevils':'Delhi Capitals'},inplace=True)"
      ]
    },
    {
      "cell_type": "code",
      "execution_count": null,
      "id": "a4de739b",
      "metadata": {
        "colab": {
          "base_uri": "https://localhost:8080/"
        },
        "id": "a4de739b",
        "outputId": "14b06c55-dde0-411d-c527-d400486d8aab"
      },
      "outputs": [
        {
          "data": {
            "text/plain": [
              "array(['Sunrisers Hyderabad', 'Mumbai Indians', 'Gujarat Lions',\n",
              "       'Rising Pune Supergiant', 'Royal Challengers Bangalore',\n",
              "       'Kolkata Knight Riders', 'Delhi Capitals', 'Kings XI Punjab',\n",
              "       'Chennai Super Kings', 'Rajasthan Royals', 'Deccan Chargers',\n",
              "       'Kochi Tuskers Kerala', 'Pune Warriors'], dtype=object)"
            ]
          },
          "execution_count": 11,
          "metadata": {},
          "output_type": "execute_result"
        }
      ],
      "source": [
        "match_ds.team1.unique() #rename happened"
      ]
    },
    {
      "cell_type": "code",
      "execution_count": null,
      "id": "78ba99db",
      "metadata": {
        "colab": {
          "base_uri": "https://localhost:8080/"
        },
        "id": "78ba99db",
        "outputId": "0b472910-32c2-4502-8f7b-483dba99951b"
      },
      "outputs": [
        {
          "data": {
            "text/plain": [
              "(179078, 21)"
            ]
          },
          "execution_count": 12,
          "metadata": {},
          "output_type": "execute_result"
        }
      ],
      "source": [
        "delivery_ds.shape # shape of delivery dataset"
      ]
    },
    {
      "cell_type": "code",
      "execution_count": null,
      "id": "8bf68009",
      "metadata": {
        "id": "8bf68009",
        "outputId": "d368e37d-a313-45aa-b972-53a93f77cca1"
      },
      "outputs": [
        {
          "name": "stdout",
          "output_type": "stream",
          "text": [
            "<class 'pandas.core.frame.DataFrame'>\n",
            "RangeIndex: 179078 entries, 0 to 179077\n",
            "Data columns (total 21 columns):\n",
            " #   Column            Non-Null Count   Dtype \n",
            "---  ------            --------------   ----- \n",
            " 0   match_id          179078 non-null  int64 \n",
            " 1   inning            179078 non-null  int64 \n",
            " 2   batting_team      179078 non-null  object\n",
            " 3   bowling_team      179078 non-null  object\n",
            " 4   over              179078 non-null  int64 \n",
            " 5   ball              179078 non-null  int64 \n",
            " 6   batsman           179078 non-null  object\n",
            " 7   non_striker       179078 non-null  object\n",
            " 8   bowler            179078 non-null  object\n",
            " 9   is_super_over     179078 non-null  int64 \n",
            " 10  wide_runs         179078 non-null  int64 \n",
            " 11  bye_runs          179078 non-null  int64 \n",
            " 12  legbye_runs       179078 non-null  int64 \n",
            " 13  noball_runs       179078 non-null  int64 \n",
            " 14  penalty_runs      179078 non-null  int64 \n",
            " 15  batsman_runs      179078 non-null  int64 \n",
            " 16  extra_runs        179078 non-null  int64 \n",
            " 17  total_runs        179078 non-null  int64 \n",
            " 18  player_dismissed  8834 non-null    object\n",
            " 19  dismissal_kind    8834 non-null    object\n",
            " 20  fielder           6448 non-null    object\n",
            "dtypes: int64(13), object(8)\n",
            "memory usage: 28.7+ MB\n"
          ]
        }
      ],
      "source": [
        "delivery_ds.info()"
      ]
    },
    {
      "cell_type": "code",
      "execution_count": null,
      "id": "84af7842",
      "metadata": {
        "colab": {
          "base_uri": "https://localhost:8080/"
        },
        "id": "84af7842",
        "outputId": "27dbfe96-3277-4696-aaf6-71e3a0f3b68b"
      },
      "outputs": [
        {
          "data": {
            "text/plain": [
              "match_id                                      1\n",
              "inning                                        1\n",
              "batting_team                Sunrisers Hyderabad\n",
              "bowling_team        Royal Challengers Bangalore\n",
              "over                                         20\n",
              "ball                                          2\n",
              "batsman                                DJ Hooda\n",
              "non_striker                         BCJ Cutting\n",
              "bowler                                SR Watson\n",
              "is_super_over                                 0\n",
              "wide_runs                                     0\n",
              "bye_runs                                      0\n",
              "legbye_runs                                   0\n",
              "noball_runs                                   0\n",
              "penalty_runs                                  0\n",
              "batsman_runs                                  1\n",
              "extra_runs                                    0\n",
              "total_runs                                    1\n",
              "player_dismissed                            NaN\n",
              "dismissal_kind                              NaN\n",
              "fielder                                     NaN\n",
              "Name: 120, dtype: object"
            ]
          },
          "execution_count": 13,
          "metadata": {},
          "output_type": "execute_result"
        }
      ],
      "source": [
        "delivery_ds.iloc[120]"
      ]
    },
    {
      "cell_type": "code",
      "execution_count": null,
      "id": "4d38e1d7",
      "metadata": {
        "colab": {
          "base_uri": "https://localhost:8080/",
          "height": 473
        },
        "id": "4d38e1d7",
        "outputId": "ef982c0a-6198-46b8-8b47-0db240c9d0c8"
      },
      "outputs": [
        {
          "data": {
            "text/html": [
              "<div>\n",
              "<style scoped>\n",
              "    .dataframe tbody tr th:only-of-type {\n",
              "        vertical-align: middle;\n",
              "    }\n",
              "\n",
              "    .dataframe tbody tr th {\n",
              "        vertical-align: top;\n",
              "    }\n",
              "\n",
              "    .dataframe thead th {\n",
              "        text-align: right;\n",
              "    }\n",
              "</style>\n",
              "<table border=\"1\" class=\"dataframe\">\n",
              "  <thead>\n",
              "    <tr style=\"text-align: right;\">\n",
              "      <th></th>\n",
              "      <th>match_id</th>\n",
              "      <th>inning</th>\n",
              "      <th>batting_team</th>\n",
              "      <th>bowling_team</th>\n",
              "      <th>over</th>\n",
              "      <th>ball</th>\n",
              "      <th>batsman</th>\n",
              "      <th>non_striker</th>\n",
              "      <th>bowler</th>\n",
              "      <th>is_super_over</th>\n",
              "      <th>...</th>\n",
              "      <th>bye_runs</th>\n",
              "      <th>legbye_runs</th>\n",
              "      <th>noball_runs</th>\n",
              "      <th>penalty_runs</th>\n",
              "      <th>batsman_runs</th>\n",
              "      <th>extra_runs</th>\n",
              "      <th>total_runs</th>\n",
              "      <th>player_dismissed</th>\n",
              "      <th>dismissal_kind</th>\n",
              "      <th>fielder</th>\n",
              "    </tr>\n",
              "  </thead>\n",
              "  <tbody>\n",
              "    <tr>\n",
              "      <th>0</th>\n",
              "      <td>1</td>\n",
              "      <td>1</td>\n",
              "      <td>Sunrisers Hyderabad</td>\n",
              "      <td>Royal Challengers Bangalore</td>\n",
              "      <td>1</td>\n",
              "      <td>1</td>\n",
              "      <td>DA Warner</td>\n",
              "      <td>S Dhawan</td>\n",
              "      <td>TS Mills</td>\n",
              "      <td>0</td>\n",
              "      <td>...</td>\n",
              "      <td>0</td>\n",
              "      <td>0</td>\n",
              "      <td>0</td>\n",
              "      <td>0</td>\n",
              "      <td>0</td>\n",
              "      <td>0</td>\n",
              "      <td>0</td>\n",
              "      <td>NaN</td>\n",
              "      <td>NaN</td>\n",
              "      <td>NaN</td>\n",
              "    </tr>\n",
              "    <tr>\n",
              "      <th>1</th>\n",
              "      <td>1</td>\n",
              "      <td>1</td>\n",
              "      <td>Sunrisers Hyderabad</td>\n",
              "      <td>Royal Challengers Bangalore</td>\n",
              "      <td>1</td>\n",
              "      <td>2</td>\n",
              "      <td>DA Warner</td>\n",
              "      <td>S Dhawan</td>\n",
              "      <td>TS Mills</td>\n",
              "      <td>0</td>\n",
              "      <td>...</td>\n",
              "      <td>0</td>\n",
              "      <td>0</td>\n",
              "      <td>0</td>\n",
              "      <td>0</td>\n",
              "      <td>0</td>\n",
              "      <td>0</td>\n",
              "      <td>0</td>\n",
              "      <td>NaN</td>\n",
              "      <td>NaN</td>\n",
              "      <td>NaN</td>\n",
              "    </tr>\n",
              "    <tr>\n",
              "      <th>2</th>\n",
              "      <td>1</td>\n",
              "      <td>1</td>\n",
              "      <td>Sunrisers Hyderabad</td>\n",
              "      <td>Royal Challengers Bangalore</td>\n",
              "      <td>1</td>\n",
              "      <td>3</td>\n",
              "      <td>DA Warner</td>\n",
              "      <td>S Dhawan</td>\n",
              "      <td>TS Mills</td>\n",
              "      <td>0</td>\n",
              "      <td>...</td>\n",
              "      <td>0</td>\n",
              "      <td>0</td>\n",
              "      <td>0</td>\n",
              "      <td>0</td>\n",
              "      <td>4</td>\n",
              "      <td>0</td>\n",
              "      <td>4</td>\n",
              "      <td>NaN</td>\n",
              "      <td>NaN</td>\n",
              "      <td>NaN</td>\n",
              "    </tr>\n",
              "    <tr>\n",
              "      <th>3</th>\n",
              "      <td>1</td>\n",
              "      <td>1</td>\n",
              "      <td>Sunrisers Hyderabad</td>\n",
              "      <td>Royal Challengers Bangalore</td>\n",
              "      <td>1</td>\n",
              "      <td>4</td>\n",
              "      <td>DA Warner</td>\n",
              "      <td>S Dhawan</td>\n",
              "      <td>TS Mills</td>\n",
              "      <td>0</td>\n",
              "      <td>...</td>\n",
              "      <td>0</td>\n",
              "      <td>0</td>\n",
              "      <td>0</td>\n",
              "      <td>0</td>\n",
              "      <td>0</td>\n",
              "      <td>0</td>\n",
              "      <td>0</td>\n",
              "      <td>NaN</td>\n",
              "      <td>NaN</td>\n",
              "      <td>NaN</td>\n",
              "    </tr>\n",
              "    <tr>\n",
              "      <th>4</th>\n",
              "      <td>1</td>\n",
              "      <td>1</td>\n",
              "      <td>Sunrisers Hyderabad</td>\n",
              "      <td>Royal Challengers Bangalore</td>\n",
              "      <td>1</td>\n",
              "      <td>5</td>\n",
              "      <td>DA Warner</td>\n",
              "      <td>S Dhawan</td>\n",
              "      <td>TS Mills</td>\n",
              "      <td>0</td>\n",
              "      <td>...</td>\n",
              "      <td>0</td>\n",
              "      <td>0</td>\n",
              "      <td>0</td>\n",
              "      <td>0</td>\n",
              "      <td>0</td>\n",
              "      <td>2</td>\n",
              "      <td>2</td>\n",
              "      <td>NaN</td>\n",
              "      <td>NaN</td>\n",
              "      <td>NaN</td>\n",
              "    </tr>\n",
              "  </tbody>\n",
              "</table>\n",
              "<p>5 rows × 21 columns</p>\n",
              "</div>"
            ],
            "text/plain": [
              "   match_id  inning         batting_team                 bowling_team  over  \\\n",
              "0         1       1  Sunrisers Hyderabad  Royal Challengers Bangalore     1   \n",
              "1         1       1  Sunrisers Hyderabad  Royal Challengers Bangalore     1   \n",
              "2         1       1  Sunrisers Hyderabad  Royal Challengers Bangalore     1   \n",
              "3         1       1  Sunrisers Hyderabad  Royal Challengers Bangalore     1   \n",
              "4         1       1  Sunrisers Hyderabad  Royal Challengers Bangalore     1   \n",
              "\n",
              "   ball    batsman non_striker    bowler  is_super_over  ...  bye_runs  \\\n",
              "0     1  DA Warner    S Dhawan  TS Mills              0  ...         0   \n",
              "1     2  DA Warner    S Dhawan  TS Mills              0  ...         0   \n",
              "2     3  DA Warner    S Dhawan  TS Mills              0  ...         0   \n",
              "3     4  DA Warner    S Dhawan  TS Mills              0  ...         0   \n",
              "4     5  DA Warner    S Dhawan  TS Mills              0  ...         0   \n",
              "\n",
              "   legbye_runs  noball_runs  penalty_runs  batsman_runs  extra_runs  \\\n",
              "0            0            0             0             0           0   \n",
              "1            0            0             0             0           0   \n",
              "2            0            0             0             4           0   \n",
              "3            0            0             0             0           0   \n",
              "4            0            0             0             0           2   \n",
              "\n",
              "   total_runs  player_dismissed dismissal_kind fielder  \n",
              "0           0               NaN            NaN     NaN  \n",
              "1           0               NaN            NaN     NaN  \n",
              "2           4               NaN            NaN     NaN  \n",
              "3           0               NaN            NaN     NaN  \n",
              "4           2               NaN            NaN     NaN  \n",
              "\n",
              "[5 rows x 21 columns]"
            ]
          },
          "execution_count": 16,
          "metadata": {},
          "output_type": "execute_result"
        }
      ],
      "source": [
        "delivery_ds.head() #display the first 5 rows"
      ]
    },
    {
      "cell_type": "markdown",
      "id": "72f87e02",
      "metadata": {
        "id": "72f87e02"
      },
      "source": [
        "## Analyzing the Data"
      ]
    },
    {
      "cell_type": "markdown",
      "id": "dace6198",
      "metadata": {
        "id": "dace6198"
      },
      "source": [
        "## Total number of matches played in each season"
      ]
    },
    {
      "cell_type": "code",
      "execution_count": null,
      "id": "b2cc75b8",
      "metadata": {
        "colab": {
          "base_uri": "https://localhost:8080/",
          "height": 538
        },
        "id": "b2cc75b8",
        "outputId": "5912234b-1e0a-4aca-c617-5e541208ba4b"
      },
      "outputs": [
        {
          "data": {
            "text/plain": [
              "<AxesSubplot:title={'center':'Total number of matches played in each season'}, xlabel='season', ylabel='count'>"
            ]
          },
          "execution_count": 17,
          "metadata": {},
          "output_type": "execute_result"
        },
        {
          "data": {
            "image/png": "[encoded data removed]",
            "text/plain": [
              "<Figure size 1080x576 with 1 Axes>"
            ]
          },
          "metadata": {
            "needs_background": "light"
          },
          "output_type": "display_data"
        }
      ],
      "source": [
        "plt.figure(figsize=(15,8))\n",
        "plt.title(\"Total number of matches played in each season\")\n",
        "plt.xlabel('Season',fontsize=15)\n",
        "plt.ylabel('Count',fontsize=15)\n",
        "plt.xticks(fontsize=12)\n",
        "plt.yticks(fontsize=12)\n",
        "sns.countplot(x=match_ds['season'])# ploting Total number of matches played in each season"
      ]
    },
    {
      "cell_type": "markdown",
      "id": "a6552e96",
      "metadata": {
        "id": "a6552e96"
      },
      "source": [
        "## Most Successfull Team in IPL(2008 - 2019)"
      ]
    },
    {
      "cell_type": "code",
      "execution_count": null,
      "id": "f5109e7f",
      "metadata": {
        "colab": {
          "base_uri": "https://localhost:8080/",
          "height": 457
        },
        "id": "f5109e7f",
        "outputId": "572fc182-7354-4761-e699-03f5977ac4a8",
        "scrolled": false
      },
      "outputs": [
        {
          "data": {
            "text/html": [
              "<div>\n",
              "<style scoped>\n",
              "    .dataframe tbody tr th:only-of-type {\n",
              "        vertical-align: middle;\n",
              "    }\n",
              "\n",
              "    .dataframe tbody tr th {\n",
              "        vertical-align: top;\n",
              "    }\n",
              "\n",
              "    .dataframe thead th {\n",
              "        text-align: right;\n",
              "    }\n",
              "</style>\n",
              "<table border=\"1\" class=\"dataframe\">\n",
              "  <thead>\n",
              "    <tr style=\"text-align: right;\">\n",
              "      <th></th>\n",
              "      <th>Team</th>\n",
              "      <th>No.of matches Won</th>\n",
              "    </tr>\n",
              "  </thead>\n",
              "  <tbody>\n",
              "    <tr>\n",
              "      <th>0</th>\n",
              "      <td>Mumbai Indians</td>\n",
              "      <td>109</td>\n",
              "    </tr>\n",
              "    <tr>\n",
              "      <th>1</th>\n",
              "      <td>Chennai Super Kings</td>\n",
              "      <td>100</td>\n",
              "    </tr>\n",
              "    <tr>\n",
              "      <th>2</th>\n",
              "      <td>Kolkata Knight Riders</td>\n",
              "      <td>92</td>\n",
              "    </tr>\n",
              "    <tr>\n",
              "      <th>3</th>\n",
              "      <td>Royal Challengers Bangalore</td>\n",
              "      <td>84</td>\n",
              "    </tr>\n",
              "    <tr>\n",
              "      <th>4</th>\n",
              "      <td>Kings XI Punjab</td>\n",
              "      <td>82</td>\n",
              "    </tr>\n",
              "    <tr>\n",
              "      <th>5</th>\n",
              "      <td>Delhi Capitals</td>\n",
              "      <td>77</td>\n",
              "    </tr>\n",
              "    <tr>\n",
              "      <th>6</th>\n",
              "      <td>Rajasthan Royals</td>\n",
              "      <td>75</td>\n",
              "    </tr>\n",
              "    <tr>\n",
              "      <th>7</th>\n",
              "      <td>Sunrisers Hyderabad</td>\n",
              "      <td>58</td>\n",
              "    </tr>\n",
              "    <tr>\n",
              "      <th>8</th>\n",
              "      <td>Deccan Chargers</td>\n",
              "      <td>29</td>\n",
              "    </tr>\n",
              "    <tr>\n",
              "      <th>9</th>\n",
              "      <td>Rising Pune Supergiant</td>\n",
              "      <td>15</td>\n",
              "    </tr>\n",
              "    <tr>\n",
              "      <th>10</th>\n",
              "      <td>Gujarat Lions</td>\n",
              "      <td>13</td>\n",
              "    </tr>\n",
              "    <tr>\n",
              "      <th>11</th>\n",
              "      <td>Pune Warriors</td>\n",
              "      <td>12</td>\n",
              "    </tr>\n",
              "    <tr>\n",
              "      <th>12</th>\n",
              "      <td>Kochi Tuskers Kerala</td>\n",
              "      <td>6</td>\n",
              "    </tr>\n",
              "  </tbody>\n",
              "</table>\n",
              "</div>"
            ],
            "text/plain": [
              "                           Team  No.of matches Won\n",
              "0                Mumbai Indians                109\n",
              "1           Chennai Super Kings                100\n",
              "2         Kolkata Knight Riders                 92\n",
              "3   Royal Challengers Bangalore                 84\n",
              "4               Kings XI Punjab                 82\n",
              "5                Delhi Capitals                 77\n",
              "6              Rajasthan Royals                 75\n",
              "7           Sunrisers Hyderabad                 58\n",
              "8               Deccan Chargers                 29\n",
              "9        Rising Pune Supergiant                 15\n",
              "10                Gujarat Lions                 13\n",
              "11                Pune Warriors                 12\n",
              "12         Kochi Tuskers Kerala                  6"
            ]
          },
          "execution_count": 18,
          "metadata": {},
          "output_type": "execute_result"
        }
      ],
      "source": [
        "matches_won = match_ds.groupby(\"winner\")[[\"id\"]].count() #grouping each team with no. of winning matches\n",
        "matches_won = matches_won.sort_values(by=[\"id\"],ascending=False).reset_index() # arrange in descending order\n",
        "matches_won.rename(columns = {'id':'No.of matches Won','winner':'Team'},inplace=True) #renameing the columns\n",
        "matches_won # displaying ipl teams with No. of matches won"
      ]
    },
    {
      "cell_type": "markdown",
      "id": "75fd387d",
      "metadata": {
        "id": "75fd387d"
      },
      "source": [
        " >## The MUMBAI INDIANS won the most matches in the IPL, followed by the CHENNAI SUPER KINGS and KOLKATA KNIGHT RIDERS."
      ]
    },
    {
      "cell_type": "markdown",
      "id": "1ba4f6f0",
      "metadata": {
        "id": "1ba4f6f0"
      },
      "source": [
        "### Calculating the Winning Rate"
      ]
    },
    {
      "cell_type": "code",
      "execution_count": null,
      "id": "9095e7b4",
      "metadata": {
        "colab": {
          "base_uri": "https://localhost:8080/",
          "height": 590
        },
        "id": "9095e7b4",
        "outputId": "f659e8a5-f913-4c11-cb2b-b8c9daa04f1f"
      },
      "outputs": [
        {
          "data": {
            "text/plain": [
              "<BarContainer object of 13 artists>"
            ]
          },
          "execution_count": 19,
          "metadata": {},
          "output_type": "execute_result"
        },
        {
          "data": {
            "image/png": "[encoded data removed]",
            "text/plain": [
              "<Figure size 864x432 with 1 Axes>"
            ]
          },
          "metadata": {
            "needs_background": "light"
          },
          "output_type": "display_data"
        }
      ],
      "source": [
        "plt.figure(figsize=(12,6))\n",
        "plt.title(\"Total Number of Played Matches\")\n",
        "plt.xlabel(\"Team\",fontsize=15)\n",
        "plt.ylabel(\"Number of Matches\",fontsize=15)\n",
        "a = match_ds.groupby([\"team1\"])['team2'].count() #getting no. of match played by each team as team1\n",
        "b = match_ds.groupby(['team2'])['team1'].count() #getting no. of match played by each team as team2\n",
        "matches_played = pd.DataFrame(a+b) # adding both dataframe to get toal no. of matches played by each team as both team1 and team2\n",
        "matches_played[\"Team\"] = matches_played.index #assinging team names in new column \"Team\"\n",
        "matches_played.rename(columns={0:'No. of Matches played'},inplace=True)\n",
        "plt.xticks(rotation = 90,fontsize=12) #displaying the xticks value in vertical algin\n",
        "plt.yticks(fontsize=10)\n",
        "matches_played = matches_played.sort_values('No. of Matches played',ascending=False)\n",
        "plt.bar(matches_played['Team'],matches_played['No. of Matches played'],alpha = 0.8,color='r')  # alpha -> transperancy levels of bar"
      ]
    },
    {
      "cell_type": "code",
      "execution_count": null,
      "id": "2f67afa6",
      "metadata": {
        "colab": {
          "base_uri": "https://localhost:8080/",
          "height": 457
        },
        "id": "2f67afa6",
        "outputId": "747c8f6b-b453-4ac8-970c-99bdfe2d222e",
        "scrolled": false
      },
      "outputs": [
        {
          "data": {
            "text/html": [
              "<div>\n",
              "<style scoped>\n",
              "    .dataframe tbody tr th:only-of-type {\n",
              "        vertical-align: middle;\n",
              "    }\n",
              "\n",
              "    .dataframe tbody tr th {\n",
              "        vertical-align: top;\n",
              "    }\n",
              "\n",
              "    .dataframe thead th {\n",
              "        text-align: right;\n",
              "    }\n",
              "</style>\n",
              "<table border=\"1\" class=\"dataframe\">\n",
              "  <thead>\n",
              "    <tr style=\"text-align: right;\">\n",
              "      <th></th>\n",
              "      <th>No. of Matches played</th>\n",
              "      <th>Team</th>\n",
              "      <th>No.of matches Won</th>\n",
              "      <th>Win_Rate</th>\n",
              "    </tr>\n",
              "  </thead>\n",
              "  <tbody>\n",
              "    <tr>\n",
              "      <th>5</th>\n",
              "      <td>164</td>\n",
              "      <td>Chennai Super Kings</td>\n",
              "      <td>100</td>\n",
              "      <td>60.975610</td>\n",
              "    </tr>\n",
              "    <tr>\n",
              "      <th>0</th>\n",
              "      <td>187</td>\n",
              "      <td>Mumbai Indians</td>\n",
              "      <td>109</td>\n",
              "      <td>58.288770</td>\n",
              "    </tr>\n",
              "    <tr>\n",
              "      <th>7</th>\n",
              "      <td>108</td>\n",
              "      <td>Sunrisers Hyderabad</td>\n",
              "      <td>58</td>\n",
              "      <td>53.703704</td>\n",
              "    </tr>\n",
              "    <tr>\n",
              "      <th>2</th>\n",
              "      <td>178</td>\n",
              "      <td>Kolkata Knight Riders</td>\n",
              "      <td>92</td>\n",
              "      <td>51.685393</td>\n",
              "    </tr>\n",
              "    <tr>\n",
              "      <th>6</th>\n",
              "      <td>147</td>\n",
              "      <td>Rajasthan Royals</td>\n",
              "      <td>75</td>\n",
              "      <td>51.020408</td>\n",
              "    </tr>\n",
              "    <tr>\n",
              "      <th>11</th>\n",
              "      <td>30</td>\n",
              "      <td>Rising Pune Supergiant</td>\n",
              "      <td>15</td>\n",
              "      <td>50.000000</td>\n",
              "    </tr>\n",
              "    <tr>\n",
              "      <th>1</th>\n",
              "      <td>180</td>\n",
              "      <td>Royal Challengers Bangalore</td>\n",
              "      <td>84</td>\n",
              "      <td>46.666667</td>\n",
              "    </tr>\n",
              "    <tr>\n",
              "      <th>4</th>\n",
              "      <td>176</td>\n",
              "      <td>Kings XI Punjab</td>\n",
              "      <td>82</td>\n",
              "      <td>46.590909</td>\n",
              "    </tr>\n",
              "    <tr>\n",
              "      <th>3</th>\n",
              "      <td>177</td>\n",
              "      <td>Delhi Capitals</td>\n",
              "      <td>77</td>\n",
              "      <td>43.502825</td>\n",
              "    </tr>\n",
              "    <tr>\n",
              "      <th>10</th>\n",
              "      <td>30</td>\n",
              "      <td>Gujarat Lions</td>\n",
              "      <td>13</td>\n",
              "      <td>43.333333</td>\n",
              "    </tr>\n",
              "    <tr>\n",
              "      <th>12</th>\n",
              "      <td>14</td>\n",
              "      <td>Kochi Tuskers Kerala</td>\n",
              "      <td>6</td>\n",
              "      <td>42.857143</td>\n",
              "    </tr>\n",
              "    <tr>\n",
              "      <th>8</th>\n",
              "      <td>75</td>\n",
              "      <td>Deccan Chargers</td>\n",
              "      <td>29</td>\n",
              "      <td>38.666667</td>\n",
              "    </tr>\n",
              "    <tr>\n",
              "      <th>9</th>\n",
              "      <td>46</td>\n",
              "      <td>Pune Warriors</td>\n",
              "      <td>12</td>\n",
              "      <td>26.086957</td>\n",
              "    </tr>\n",
              "  </tbody>\n",
              "</table>\n",
              "</div>"
            ],
            "text/plain": [
              "    No. of Matches played                         Team  No.of matches Won  \\\n",
              "5                     164          Chennai Super Kings                100   \n",
              "0                     187               Mumbai Indians                109   \n",
              "7                     108          Sunrisers Hyderabad                 58   \n",
              "2                     178        Kolkata Knight Riders                 92   \n",
              "6                     147             Rajasthan Royals                 75   \n",
              "11                     30       Rising Pune Supergiant                 15   \n",
              "1                     180  Royal Challengers Bangalore                 84   \n",
              "4                     176              Kings XI Punjab                 82   \n",
              "3                     177               Delhi Capitals                 77   \n",
              "10                     30                Gujarat Lions                 13   \n",
              "12                     14         Kochi Tuskers Kerala                  6   \n",
              "8                      75              Deccan Chargers                 29   \n",
              "9                      46                Pune Warriors                 12   \n",
              "\n",
              "     Win_Rate  \n",
              "5   60.975610  \n",
              "0   58.288770  \n",
              "7   53.703704  \n",
              "2   51.685393  \n",
              "6   51.020408  \n",
              "11  50.000000  \n",
              "1   46.666667  \n",
              "4   46.590909  \n",
              "3   43.502825  \n",
              "10  43.333333  \n",
              "12  42.857143  \n",
              "8   38.666667  \n",
              "9   26.086957  "
            ]
          },
          "execution_count": 20,
          "metadata": {},
          "output_type": "execute_result"
        }
      ],
      "source": [
        "mergerd_df = matches_played.merge(matches_won,on='Team') # merging two dataframe based on \"Team\" -> team name \n",
        "mergerd_df['Win_Rate'] = (mergerd_df['No.of matches Won']/mergerd_df['No. of Matches played'])*100 # calculating winning rate \n",
        "mergerd_df.sort_values(by='Win_Rate',ascending=False)"
      ]
    },
    {
      "cell_type": "markdown",
      "id": "f92ff841",
      "metadata": {
        "id": "f92ff841"
      },
      "source": [
        "### According to the above table, CHENNAI SUPER KINGS has the highest winning rate, followed by MUMBAI INDIANS."
      ]
    },
    {
      "cell_type": "code",
      "execution_count": null,
      "id": "6c4d8933",
      "metadata": {
        "colab": {
          "base_uri": "https://localhost:8080/",
          "height": 758
        },
        "id": "6c4d8933",
        "outputId": "ed40cf3e-a95e-44fc-ae12-00acf966abdd"
      },
      "outputs": [
        {
          "data": {
            "text/plain": [
              "<matplotlib.legend.Legend at 0x1a167ad0250>"
            ]
          },
          "execution_count": 21,
          "metadata": {},
          "output_type": "execute_result"
        },
        {
          "data": {
            "image/png": "[encoded data removed]",
            "text/plain": [
              "<Figure size 1080x720 with 1 Axes>"
            ]
          },
          "metadata": {
            "needs_background": "light"
          },
          "output_type": "display_data"
        }
      ],
      "source": [
        "plt.figure(figsize=(15,10))\n",
        "plt.title(\"Total Number of matches won by each team out Total Number of matches played\")\n",
        "plt.xticks(rotation=90,fontsize=10)\n",
        "plt.bar(mergerd_df['Team'],mergerd_df['No.of matches Won'],color='blue',alpha=.8)\n",
        "plt.bar(mergerd_df['Team'],mergerd_df['No. of Matches played'],color='y',alpha=0.3)\n",
        "plt.plot(mergerd_df['Win_Rate'],'r-.*')\n",
        "plt.legend(['Percentage of victory','No.of matches won','No.of matches played'])"
      ]
    },
    {
      "cell_type": "markdown",
      "id": "0c4f1209",
      "metadata": {
        "id": "0c4f1209"
      },
      "source": [
        "## Considering both bar charts, \n",
        "## Chennai Super Kings and  MUMBAI INDIANS are the two most successful teams in IPL history (2008 - 2019)\n",
        "<hr style=\"border:2px solid gray\">"
      ]
    },
    {
      "cell_type": "markdown",
      "id": "bd3ff1df",
      "metadata": {
        "id": "bd3ff1df"
      },
      "source": [
        "## Most Successful Players in IPL(2008 - 2019)"
      ]
    },
    {
      "cell_type": "markdown",
      "id": "e7162885",
      "metadata": {
        "id": "e7162885"
      },
      "source": [
        "### Analyzing <b>Man of the Match</b> players"
      ]
    },
    {
      "cell_type": "code",
      "execution_count": null,
      "id": "5e33b6a7",
      "metadata": {
        "colab": {
          "base_uri": "https://localhost:8080/",
          "height": 520
        },
        "id": "5e33b6a7",
        "outputId": "0db8917b-5175-47bb-d3ec-30cc6667d58c",
        "scrolled": false
      },
      "outputs": [
        {
          "data": {
            "text/html": [
              "<div>\n",
              "<style scoped>\n",
              "    .dataframe tbody tr th:only-of-type {\n",
              "        vertical-align: middle;\n",
              "    }\n",
              "\n",
              "    .dataframe tbody tr th {\n",
              "        vertical-align: top;\n",
              "    }\n",
              "\n",
              "    .dataframe thead th {\n",
              "        text-align: right;\n",
              "    }\n",
              "</style>\n",
              "<table border=\"1\" class=\"dataframe\">\n",
              "  <thead>\n",
              "    <tr style=\"text-align: right;\">\n",
              "      <th></th>\n",
              "      <th>Top Players</th>\n",
              "      <th>The number of times a player has been chosen as the man of the match</th>\n",
              "    </tr>\n",
              "  </thead>\n",
              "  <tbody>\n",
              "    <tr>\n",
              "      <th>0</th>\n",
              "      <td>CH Gayle</td>\n",
              "      <td>21</td>\n",
              "    </tr>\n",
              "    <tr>\n",
              "      <th>1</th>\n",
              "      <td>AB de Villiers</td>\n",
              "      <td>20</td>\n",
              "    </tr>\n",
              "    <tr>\n",
              "      <th>2</th>\n",
              "      <td>MS Dhoni</td>\n",
              "      <td>17</td>\n",
              "    </tr>\n",
              "    <tr>\n",
              "      <th>3</th>\n",
              "      <td>DA Warner</td>\n",
              "      <td>17</td>\n",
              "    </tr>\n",
              "    <tr>\n",
              "      <th>4</th>\n",
              "      <td>RG Sharma</td>\n",
              "      <td>17</td>\n",
              "    </tr>\n",
              "    <tr>\n",
              "      <th>5</th>\n",
              "      <td>YK Pathan</td>\n",
              "      <td>16</td>\n",
              "    </tr>\n",
              "    <tr>\n",
              "      <th>6</th>\n",
              "      <td>SR Watson</td>\n",
              "      <td>15</td>\n",
              "    </tr>\n",
              "    <tr>\n",
              "      <th>7</th>\n",
              "      <td>SK Raina</td>\n",
              "      <td>14</td>\n",
              "    </tr>\n",
              "    <tr>\n",
              "      <th>8</th>\n",
              "      <td>G Gambhir</td>\n",
              "      <td>13</td>\n",
              "    </tr>\n",
              "    <tr>\n",
              "      <th>9</th>\n",
              "      <td>MEK Hussey</td>\n",
              "      <td>12</td>\n",
              "    </tr>\n",
              "    <tr>\n",
              "      <th>10</th>\n",
              "      <td>V Kohli</td>\n",
              "      <td>12</td>\n",
              "    </tr>\n",
              "    <tr>\n",
              "      <th>11</th>\n",
              "      <td>AM Rahane</td>\n",
              "      <td>12</td>\n",
              "    </tr>\n",
              "    <tr>\n",
              "      <th>12</th>\n",
              "      <td>AD Russell</td>\n",
              "      <td>11</td>\n",
              "    </tr>\n",
              "    <tr>\n",
              "      <th>13</th>\n",
              "      <td>DR Smith</td>\n",
              "      <td>11</td>\n",
              "    </tr>\n",
              "    <tr>\n",
              "      <th>14</th>\n",
              "      <td>V Sehwag</td>\n",
              "      <td>11</td>\n",
              "    </tr>\n",
              "  </tbody>\n",
              "</table>\n",
              "</div>"
            ],
            "text/plain": [
              "       Top Players  \\\n",
              "0         CH Gayle   \n",
              "1   AB de Villiers   \n",
              "2         MS Dhoni   \n",
              "3        DA Warner   \n",
              "4        RG Sharma   \n",
              "5        YK Pathan   \n",
              "6        SR Watson   \n",
              "7         SK Raina   \n",
              "8        G Gambhir   \n",
              "9       MEK Hussey   \n",
              "10         V Kohli   \n",
              "11       AM Rahane   \n",
              "12      AD Russell   \n",
              "13        DR Smith   \n",
              "14        V Sehwag   \n",
              "\n",
              "    The number of times a player has been chosen as the man of the match  \n",
              "0                                                  21                     \n",
              "1                                                  20                     \n",
              "2                                                  17                     \n",
              "3                                                  17                     \n",
              "4                                                  17                     \n",
              "5                                                  16                     \n",
              "6                                                  15                     \n",
              "7                                                  14                     \n",
              "8                                                  13                     \n",
              "9                                                  12                     \n",
              "10                                                 12                     \n",
              "11                                                 12                     \n",
              "12                                                 11                     \n",
              "13                                                 11                     \n",
              "14                                                 11                     "
            ]
          },
          "execution_count": 22,
          "metadata": {},
          "output_type": "execute_result"
        }
      ],
      "source": [
        "man_of_the_match = match_ds.groupby('player_of_match')[['id']].count() #getting the list of 'man of the match' players\n",
        "man_of_the_match = man_of_the_match.sort_values(by='id',ascending=False).reset_index().head(15)# arranging it in descending order and filter out top 15 players\n",
        "man_of_the_match.rename(columns ={ 'player_of_match':'Top Players','id':'The number of times a player has been chosen as the man of the match'},inplace=True)\n",
        "man_of_the_match"
      ]
    },
    {
      "cell_type": "code",
      "execution_count": null,
      "id": "b3d88284",
      "metadata": {
        "colab": {
          "base_uri": "https://localhost:8080/",
          "height": 532
        },
        "id": "b3d88284",
        "outputId": "38bee54a-5fb3-41c1-ec78-75633b858c80"
      },
      "outputs": [
        {
          "data": {
            "text/plain": [
              "<AxesSubplot:title={'center':'The number of times a player has been chosen as the man of the match'}, xlabel='The number of times a player has been chosen as the man of the match', ylabel='Top Players'>"
            ]
          },
          "execution_count": 23,
          "metadata": {},
          "output_type": "execute_result"
        },
        {
          "data": {
            "image/png": "[encoded data removed]",
            "text/plain": [
              "<Figure size 1080x576 with 1 Axes>"
            ]
          },
          "metadata": {
            "needs_background": "light"
          },
          "output_type": "display_data"
        }
      ],
      "source": [
        "plt.figure(figsize=(15,8))\n",
        "plt.title('The number of times a player has been chosen as the man of the match',size=15)\n",
        "sns.barplot(y=man_of_the_match['Top Players'],x= man_of_the_match['The number of times a player has been chosen as the man of the match'])"
      ]
    },
    {
      "cell_type": "markdown",
      "id": "c9a47a04",
      "metadata": {
        "id": "c9a47a04"
      },
      "source": [
        "### Based on this data, we can conclude that 'CH Gayle,' 'AB de Villiers,' 'MS Dhoni,' 'DA Warner,' 'RG Sharma,' SK Raina, and 'V Kohli' are the most important players in IPL history."
      ]
    },
    {
      "cell_type": "code",
      "execution_count": null,
      "id": "a7d14879",
      "metadata": {
        "colab": {
          "base_uri": "https://localhost:8080/",
          "height": 520
        },
        "id": "a7d14879",
        "outputId": "bf3108d5-1706-4b64-f63f-b94b43745df0"
      },
      "outputs": [
        {
          "data": {
            "text/html": [
              "<div>\n",
              "<style scoped>\n",
              "    .dataframe tbody tr th:only-of-type {\n",
              "        vertical-align: middle;\n",
              "    }\n",
              "\n",
              "    .dataframe tbody tr th {\n",
              "        vertical-align: top;\n",
              "    }\n",
              "\n",
              "    .dataframe thead th {\n",
              "        text-align: right;\n",
              "    }\n",
              "</style>\n",
              "<table border=\"1\" class=\"dataframe\">\n",
              "  <thead>\n",
              "    <tr style=\"text-align: right;\">\n",
              "      <th></th>\n",
              "      <th>batsman</th>\n",
              "      <th>batsman_runs</th>\n",
              "    </tr>\n",
              "  </thead>\n",
              "  <tbody>\n",
              "    <tr>\n",
              "      <th>0</th>\n",
              "      <td>V Kohli</td>\n",
              "      <td>5434</td>\n",
              "    </tr>\n",
              "    <tr>\n",
              "      <th>1</th>\n",
              "      <td>SK Raina</td>\n",
              "      <td>5415</td>\n",
              "    </tr>\n",
              "    <tr>\n",
              "      <th>2</th>\n",
              "      <td>RG Sharma</td>\n",
              "      <td>4914</td>\n",
              "    </tr>\n",
              "    <tr>\n",
              "      <th>3</th>\n",
              "      <td>DA Warner</td>\n",
              "      <td>4741</td>\n",
              "    </tr>\n",
              "    <tr>\n",
              "      <th>4</th>\n",
              "      <td>S Dhawan</td>\n",
              "      <td>4632</td>\n",
              "    </tr>\n",
              "    <tr>\n",
              "      <th>5</th>\n",
              "      <td>CH Gayle</td>\n",
              "      <td>4560</td>\n",
              "    </tr>\n",
              "    <tr>\n",
              "      <th>6</th>\n",
              "      <td>MS Dhoni</td>\n",
              "      <td>4477</td>\n",
              "    </tr>\n",
              "    <tr>\n",
              "      <th>7</th>\n",
              "      <td>RV Uthappa</td>\n",
              "      <td>4446</td>\n",
              "    </tr>\n",
              "    <tr>\n",
              "      <th>8</th>\n",
              "      <td>AB de Villiers</td>\n",
              "      <td>4428</td>\n",
              "    </tr>\n",
              "    <tr>\n",
              "      <th>9</th>\n",
              "      <td>G Gambhir</td>\n",
              "      <td>4223</td>\n",
              "    </tr>\n",
              "    <tr>\n",
              "      <th>10</th>\n",
              "      <td>AM Rahane</td>\n",
              "      <td>3850</td>\n",
              "    </tr>\n",
              "    <tr>\n",
              "      <th>11</th>\n",
              "      <td>KD Karthik</td>\n",
              "      <td>3688</td>\n",
              "    </tr>\n",
              "    <tr>\n",
              "      <th>12</th>\n",
              "      <td>SR Watson</td>\n",
              "      <td>3614</td>\n",
              "    </tr>\n",
              "    <tr>\n",
              "      <th>13</th>\n",
              "      <td>AT Rayudu</td>\n",
              "      <td>3326</td>\n",
              "    </tr>\n",
              "    <tr>\n",
              "      <th>14</th>\n",
              "      <td>YK Pathan</td>\n",
              "      <td>3241</td>\n",
              "    </tr>\n",
              "  </tbody>\n",
              "</table>\n",
              "</div>"
            ],
            "text/plain": [
              "           batsman  batsman_runs\n",
              "0          V Kohli          5434\n",
              "1         SK Raina          5415\n",
              "2        RG Sharma          4914\n",
              "3        DA Warner          4741\n",
              "4         S Dhawan          4632\n",
              "5         CH Gayle          4560\n",
              "6         MS Dhoni          4477\n",
              "7       RV Uthappa          4446\n",
              "8   AB de Villiers          4428\n",
              "9        G Gambhir          4223\n",
              "10       AM Rahane          3850\n",
              "11      KD Karthik          3688\n",
              "12       SR Watson          3614\n",
              "13       AT Rayudu          3326\n",
              "14       YK Pathan          3241"
            ]
          },
          "execution_count": 24,
          "metadata": {},
          "output_type": "execute_result"
        }
      ],
      "source": [
        "Batsman = delivery_ds.groupby('batsman')[['batsman_runs']].sum() # total no.of rus scored by each player calculated from \"batsman_runs\" column\n",
        "Batsman = Batsman.sort_values(by='batsman_runs',ascending=False).head(15).reset_index() # Arranging in descending order and slicing the top 15 batsman\n",
        "Batsman.rename(columns={'\tbatsman_runs':'Runs_scored'},inplace=True)\n",
        "Batsman"
      ]
    },
    {
      "cell_type": "code",
      "execution_count": null,
      "id": "9bd93bfa",
      "metadata": {
        "colab": {
          "base_uri": "https://localhost:8080/",
          "height": 662
        },
        "id": "9bd93bfa",
        "outputId": "7ad8f37f-27f8-4078-80b7-46774327c9fa"
      },
      "outputs": [
        {
          "data": {
            "text/plain": [
              "<AxesSubplot:title={'center':'Total Runs scored by players'}, xlabel='batsman_runs', ylabel='batsman'>"
            ]
          },
          "execution_count": 25,
          "metadata": {},
          "output_type": "execute_result"
        },
        {
          "data": {
            "image/png": "[encoded data removed]",
            "text/plain": [
              "<Figure size 1080x720 with 1 Axes>"
            ]
          },
          "metadata": {
            "needs_background": "light"
          },
          "output_type": "display_data"
        }
      ],
      "source": [
        "plt.figure(figsize=(15,10))\n",
        "plt.xticks(rotation=90,fontsize=12)\n",
        "plt.title('Total Runs scored by players',fontsize=15)\n",
        "sns.barplot(y=Batsman.batsman,x=Batsman.batsman_runs)"
      ]
    },
    {
      "cell_type": "markdown",
      "id": "9745a0f3",
      "metadata": {
        "id": "9745a0f3"
      },
      "source": [
        "### According to the above chart, V Kohli, SK Raina, RG Sharma, DA Warner, S Dhawan, MS Dhoni, AB de Villiers, RV Uthappa, and CH Gayle have the most Run Scorers in IPL history."
      ]
    },
    {
      "cell_type": "markdown",
      "id": "3f0e3175",
      "metadata": {
        "id": "3f0e3175"
      },
      "source": [
        "## We can conclude from the above two bar charts that \n",
        "# Ms Dhoni, AB de Villiers, RG Sharma, and V Kohli are the most successful IPL players (2008 - 2019)\n",
        "<hr style=\"border:2px solid gray\">"
      ]
    },
    {
      "cell_type": "markdown",
      "id": "1adf44c1",
      "metadata": {
        "id": "1adf44c1"
      },
      "source": [
        "## The \"Toss Decision\" is the most important factor that contributes to a team's victory or loss."
      ]
    },
    {
      "cell_type": "code",
      "execution_count": null,
      "id": "8b795176",
      "metadata": {
        "colab": {
          "base_uri": "https://localhost:8080/",
          "height": 499
        },
        "id": "8b795176",
        "outputId": "b8a58ebc-ca1f-4d0c-c6e3-199fecf8ea9d"
      },
      "outputs": [
        {
          "data": {
            "text/plain": [
              "<matplotlib.legend.Legend at 0x1a167f7c460>"
            ]
          },
          "execution_count": 26,
          "metadata": {},
          "output_type": "execute_result"
        },
        {
          "data": {
            "image/png": "[encoded data removed]",
            "text/plain": [
              "<Figure size 720x576 with 1 Axes>"
            ]
          },
          "metadata": {},
          "output_type": "display_data"
        }
      ],
      "source": [
        "plt.figure(figsize=(10,8))\n",
        "toss = [match_ds['toss_decision'].value_counts().bat,match_ds['toss_decision'].value_counts().field]# counting toss winner's decision\n",
        "plt.pie(toss,labels=['bat','field'],colors=['red','green'])\n",
        "plt.title('Decision Taken by Toss Winner')\n",
        "plt.legend()"
      ]
    },
    {
      "cell_type": "markdown",
      "id": "d86817c4",
      "metadata": {
        "id": "d86817c4"
      },
      "source": [
        "### We can deduce from the pie chart that the majority of the team prefers to Field rather than Bat."
      ]
    },
    {
      "cell_type": "markdown",
      "id": "c76490ae",
      "metadata": {
        "id": "c76490ae"
      },
      "source": [
        "#### Creating a new Dataframe with toss winner and toss decision columns"
      ]
    },
    {
      "cell_type": "code",
      "execution_count": null,
      "id": "d426db9d",
      "metadata": {
        "colab": {
          "base_uri": "https://localhost:8080/",
          "height": 869
        },
        "id": "d426db9d",
        "outputId": "923886c5-0c6b-4556-93d5-6bee2fee60ca"
      },
      "outputs": [
        {
          "data": {
            "text/html": [
              "\n",
              "  <div id=\"df-fde82c75-e821-480c-9dd6-e8180df31c8e\">\n",
              "    <div class=\"colab-df-container\">\n",
              "      <div>\n",
              "<style scoped>\n",
              "    .dataframe tbody tr th:only-of-type {\n",
              "        vertical-align: middle;\n",
              "    }\n",
              "\n",
              "    .dataframe tbody tr th {\n",
              "        vertical-align: top;\n",
              "    }\n",
              "\n",
              "    .dataframe thead th {\n",
              "        text-align: right;\n",
              "    }\n",
              "</style>\n",
              "<table border=\"1\" class=\"dataframe\">\n",
              "  <thead>\n",
              "    <tr style=\"text-align: right;\">\n",
              "      <th></th>\n",
              "      <th>id</th>\n",
              "      <th>season</th>\n",
              "      <th>city</th>\n",
              "      <th>date</th>\n",
              "      <th>team1</th>\n",
              "      <th>team2</th>\n",
              "      <th>toss_winner</th>\n",
              "      <th>toss_decision</th>\n",
              "      <th>result</th>\n",
              "      <th>dl_applied</th>\n",
              "      <th>winner</th>\n",
              "      <th>win_by_runs</th>\n",
              "      <th>win_by_wickets</th>\n",
              "      <th>player_of_match</th>\n",
              "      <th>venue</th>\n",
              "      <th>umpire1</th>\n",
              "      <th>umpire2</th>\n",
              "      <th>umpire3</th>\n",
              "    </tr>\n",
              "  </thead>\n",
              "  <tbody>\n",
              "    <tr>\n",
              "      <th>1</th>\n",
              "      <td>2</td>\n",
              "      <td>2017</td>\n",
              "      <td>Pune</td>\n",
              "      <td>2017-04-06</td>\n",
              "      <td>Mumbai Indians</td>\n",
              "      <td>Rising Pune Supergiant</td>\n",
              "      <td>Rising Pune Supergiant</td>\n",
              "      <td>field</td>\n",
              "      <td>normal</td>\n",
              "      <td>0</td>\n",
              "      <td>Rising Pune Supergiant</td>\n",
              "      <td>0</td>\n",
              "      <td>7</td>\n",
              "      <td>SPD Smith</td>\n",
              "      <td>Maharashtra Cricket Association Stadium</td>\n",
              "      <td>A Nand Kishore</td>\n",
              "      <td>S Ravi</td>\n",
              "      <td>NaN</td>\n",
              "    </tr>\n",
              "    <tr>\n",
              "      <th>2</th>\n",
              "      <td>3</td>\n",
              "      <td>2017</td>\n",
              "      <td>Rajkot</td>\n",
              "      <td>2017-04-07</td>\n",
              "      <td>Gujarat Lions</td>\n",
              "      <td>Kolkata Knight Riders</td>\n",
              "      <td>Kolkata Knight Riders</td>\n",
              "      <td>field</td>\n",
              "      <td>normal</td>\n",
              "      <td>0</td>\n",
              "      <td>Kolkata Knight Riders</td>\n",
              "      <td>0</td>\n",
              "      <td>10</td>\n",
              "      <td>CA Lynn</td>\n",
              "      <td>Saurashtra Cricket Association Stadium</td>\n",
              "      <td>Nitin Menon</td>\n",
              "      <td>CK Nandan</td>\n",
              "      <td>NaN</td>\n",
              "    </tr>\n",
              "    <tr>\n",
              "      <th>3</th>\n",
              "      <td>4</td>\n",
              "      <td>2017</td>\n",
              "      <td>Indore</td>\n",
              "      <td>2017-04-08</td>\n",
              "      <td>Rising Pune Supergiant</td>\n",
              "      <td>Kings XI Punjab</td>\n",
              "      <td>Kings XI Punjab</td>\n",
              "      <td>field</td>\n",
              "      <td>normal</td>\n",
              "      <td>0</td>\n",
              "      <td>Kings XI Punjab</td>\n",
              "      <td>0</td>\n",
              "      <td>6</td>\n",
              "      <td>GJ Maxwell</td>\n",
              "      <td>Holkar Cricket Stadium</td>\n",
              "      <td>AK Chaudhary</td>\n",
              "      <td>C Shamshuddin</td>\n",
              "      <td>NaN</td>\n",
              "    </tr>\n",
              "    <tr>\n",
              "      <th>4</th>\n",
              "      <td>5</td>\n",
              "      <td>2017</td>\n",
              "      <td>Bangalore</td>\n",
              "      <td>2017-04-08</td>\n",
              "      <td>Royal Challengers Bangalore</td>\n",
              "      <td>Delhi Capitals</td>\n",
              "      <td>Royal Challengers Bangalore</td>\n",
              "      <td>bat</td>\n",
              "      <td>normal</td>\n",
              "      <td>0</td>\n",
              "      <td>Royal Challengers Bangalore</td>\n",
              "      <td>15</td>\n",
              "      <td>0</td>\n",
              "      <td>KM Jadhav</td>\n",
              "      <td>M Chinnaswamy Stadium</td>\n",
              "      <td>NaN</td>\n",
              "      <td>NaN</td>\n",
              "      <td>NaN</td>\n",
              "    </tr>\n",
              "    <tr>\n",
              "      <th>5</th>\n",
              "      <td>6</td>\n",
              "      <td>2017</td>\n",
              "      <td>Hyderabad</td>\n",
              "      <td>2017-04-09</td>\n",
              "      <td>Gujarat Lions</td>\n",
              "      <td>Sunrisers Hyderabad</td>\n",
              "      <td>Sunrisers Hyderabad</td>\n",
              "      <td>field</td>\n",
              "      <td>normal</td>\n",
              "      <td>0</td>\n",
              "      <td>Sunrisers Hyderabad</td>\n",
              "      <td>0</td>\n",
              "      <td>9</td>\n",
              "      <td>Rashid Khan</td>\n",
              "      <td>Rajiv Gandhi International Stadium, Uppal</td>\n",
              "      <td>A Deshmukh</td>\n",
              "      <td>NJ Llong</td>\n",
              "      <td>NaN</td>\n",
              "    </tr>\n",
              "    <tr>\n",
              "      <th>...</th>\n",
              "      <td>...</td>\n",
              "      <td>...</td>\n",
              "      <td>...</td>\n",
              "      <td>...</td>\n",
              "      <td>...</td>\n",
              "      <td>...</td>\n",
              "      <td>...</td>\n",
              "      <td>...</td>\n",
              "      <td>...</td>\n",
              "      <td>...</td>\n",
              "      <td>...</td>\n",
              "      <td>...</td>\n",
              "      <td>...</td>\n",
              "      <td>...</td>\n",
              "      <td>...</td>\n",
              "      <td>...</td>\n",
              "      <td>...</td>\n",
              "      <td>...</td>\n",
              "    </tr>\n",
              "    <tr>\n",
              "      <th>750</th>\n",
              "      <td>11346</td>\n",
              "      <td>2019</td>\n",
              "      <td>Mohali</td>\n",
              "      <td>05/05/19</td>\n",
              "      <td>Chennai Super Kings</td>\n",
              "      <td>Kings XI Punjab</td>\n",
              "      <td>Kings XI Punjab</td>\n",
              "      <td>field</td>\n",
              "      <td>normal</td>\n",
              "      <td>0</td>\n",
              "      <td>Kings XI Punjab</td>\n",
              "      <td>0</td>\n",
              "      <td>6</td>\n",
              "      <td>KL Rahul</td>\n",
              "      <td>IS Bindra Stadium</td>\n",
              "      <td>KN Ananthapadmanabhan</td>\n",
              "      <td>C Shamshuddin</td>\n",
              "      <td>Bruce Oxenford</td>\n",
              "    </tr>\n",
              "    <tr>\n",
              "      <th>751</th>\n",
              "      <td>11347</td>\n",
              "      <td>2019</td>\n",
              "      <td>Mumbai</td>\n",
              "      <td>05/05/19</td>\n",
              "      <td>Kolkata Knight Riders</td>\n",
              "      <td>Mumbai Indians</td>\n",
              "      <td>Mumbai Indians</td>\n",
              "      <td>field</td>\n",
              "      <td>normal</td>\n",
              "      <td>0</td>\n",
              "      <td>Mumbai Indians</td>\n",
              "      <td>0</td>\n",
              "      <td>9</td>\n",
              "      <td>HH Pandya</td>\n",
              "      <td>Wankhede Stadium</td>\n",
              "      <td>Nanda Kishore</td>\n",
              "      <td>O Nandan</td>\n",
              "      <td>S Ravi</td>\n",
              "    </tr>\n",
              "    <tr>\n",
              "      <th>753</th>\n",
              "      <td>11413</td>\n",
              "      <td>2019</td>\n",
              "      <td>Visakhapatnam</td>\n",
              "      <td>08/05/19</td>\n",
              "      <td>Sunrisers Hyderabad</td>\n",
              "      <td>Delhi Capitals</td>\n",
              "      <td>Delhi Capitals</td>\n",
              "      <td>field</td>\n",
              "      <td>normal</td>\n",
              "      <td>0</td>\n",
              "      <td>Delhi Capitals</td>\n",
              "      <td>0</td>\n",
              "      <td>2</td>\n",
              "      <td>RR Pant</td>\n",
              "      <td>ACA-VDCA Stadium</td>\n",
              "      <td>NaN</td>\n",
              "      <td>NaN</td>\n",
              "      <td>NaN</td>\n",
              "    </tr>\n",
              "    <tr>\n",
              "      <th>754</th>\n",
              "      <td>11414</td>\n",
              "      <td>2019</td>\n",
              "      <td>Visakhapatnam</td>\n",
              "      <td>10/05/19</td>\n",
              "      <td>Delhi Capitals</td>\n",
              "      <td>Chennai Super Kings</td>\n",
              "      <td>Chennai Super Kings</td>\n",
              "      <td>field</td>\n",
              "      <td>normal</td>\n",
              "      <td>0</td>\n",
              "      <td>Chennai Super Kings</td>\n",
              "      <td>0</td>\n",
              "      <td>6</td>\n",
              "      <td>F du Plessis</td>\n",
              "      <td>ACA-VDCA Stadium</td>\n",
              "      <td>Sundaram Ravi</td>\n",
              "      <td>Bruce Oxenford</td>\n",
              "      <td>Chettithody Shamshuddin</td>\n",
              "    </tr>\n",
              "    <tr>\n",
              "      <th>755</th>\n",
              "      <td>11415</td>\n",
              "      <td>2019</td>\n",
              "      <td>Hyderabad</td>\n",
              "      <td>12/05/19</td>\n",
              "      <td>Mumbai Indians</td>\n",
              "      <td>Chennai Super Kings</td>\n",
              "      <td>Mumbai Indians</td>\n",
              "      <td>bat</td>\n",
              "      <td>normal</td>\n",
              "      <td>0</td>\n",
              "      <td>Mumbai Indians</td>\n",
              "      <td>1</td>\n",
              "      <td>0</td>\n",
              "      <td>JJ Bumrah</td>\n",
              "      <td>Rajiv Gandhi Intl. Cricket Stadium</td>\n",
              "      <td>Nitin Menon</td>\n",
              "      <td>Ian Gould</td>\n",
              "      <td>Nigel Llong</td>\n",
              "    </tr>\n",
              "  </tbody>\n",
              "</table>\n",
              "<p>388 rows × 18 columns</p>\n",
              "</div>\n",
              "      <button class=\"colab-df-convert\" onclick=\"convertToInteractive('df-fde82c75-e821-480c-9dd6-e8180df31c8e')\"\n",
              "              title=\"Convert this dataframe to an interactive table.\"\n",
              "              style=\"display:none;\">\n",
              "        \n",
              "  <svg xmlns=\"http://www.w3.org/2000/svg\" height=\"24px\"viewBox=\"0 0 24 24\"\n",
              "       width=\"24px\">\n",
              "    <path d=\"M0 0h24v24H0V0z\" fill=\"none\"/>\n",
              "    <path d=\"M18.56 5.44l.94 2.06.94-2.06 2.06-.94-2.06-.94-.94-2.06-.94 2.06-2.06.94zm-11 1L8.5 8.5l.94-2.06 2.06-.94-2.06-.94L8.5 2.5l-.94 2.06-2.06.94zm10 10l.94 2.06.94-2.06 2.06-.94-2.06-.94-.94-2.06-.94 2.06-2.06.94z\"/><path d=\"M17.41 7.96l-1.37-1.37c-.4-.4-.92-.59-1.43-.59-.52 0-1.04.2-1.43.59L10.3 9.45l-7.72 7.72c-.78.78-.78 2.05 0 2.83L4 21.41c.39.39.9.59 1.41.59.51 0 1.02-.2 1.41-.59l7.78-7.78 2.81-2.81c.8-.78.8-2.07 0-2.86zM5.41 20L4 18.59l7.72-7.72 1.47 1.35L5.41 20z\"/>\n",
              "  </svg>\n",
              "      </button>\n",
              "      \n",
              "  <style>\n",
              "    .colab-df-container {\n",
              "      display:flex;\n",
              "      flex-wrap:wrap;\n",
              "      gap: 12px;\n",
              "    }\n",
              "\n",
              "    .colab-df-convert {\n",
              "      background-color: #E8F0FE;\n",
              "      border: none;\n",
              "      border-radius: 50%;\n",
              "      cursor: pointer;\n",
              "      display: none;\n",
              "      fill: #1967D2;\n",
              "      height: 32px;\n",
              "      padding: 0 0 0 0;\n",
              "      width: 32px;\n",
              "    }\n",
              "\n",
              "    .colab-df-convert:hover {\n",
              "      background-color: #E2EBFA;\n",
              "      box-shadow: 0px 1px 2px rgba(60, 64, 67, 0.3), 0px 1px 3px 1px rgba(60, 64, 67, 0.15);\n",
              "      fill: #174EA6;\n",
              "    }\n",
              "\n",
              "    [theme=dark] .colab-df-convert {\n",
              "      background-color: #3B4455;\n",
              "      fill: #D2E3FC;\n",
              "    }\n",
              "\n",
              "    [theme=dark] .colab-df-convert:hover {\n",
              "      background-color: #434B5C;\n",
              "      box-shadow: 0px 1px 3px 1px rgba(0, 0, 0, 0.15);\n",
              "      filter: drop-shadow(0px 1px 2px rgba(0, 0, 0, 0.3));\n",
              "      fill: #FFFFFF;\n",
              "    }\n",
              "  </style>\n",
              "\n",
              "      <script>\n",
              "        const buttonEl =\n",
              "          document.querySelector('#df-fde82c75-e821-480c-9dd6-e8180df31c8e button.colab-df-convert');\n",
              "        buttonEl.style.display =\n",
              "          google.colab.kernel.accessAllowed ? 'block' : 'none';\n",
              "\n",
              "        async function convertToInteractive(key) {\n",
              "          const element = document.querySelector('#df-fde82c75-e821-480c-9dd6-e8180df31c8e');\n",
              "          const dataTable =\n",
              "            await google.colab.kernel.invokeFunction('convertToInteractive',\n",
              "                                                     [key], {});\n",
              "          if (!dataTable) return;\n",
              "\n",
              "          const docLinkHtml = 'Like what you see? Visit the ' +\n",
              "            '<a target=\"_blank\" href=https://colab.research.google.com/notebooks/data_table.ipynb>data table notebook</a>'\n",
              "            + ' to learn more about interactive tables.';\n",
              "          element.innerHTML = '';\n",
              "          dataTable['output_type'] = 'display_data';\n",
              "          await google.colab.output.renderOutput(dataTable, element);\n",
              "          const docLink = document.createElement('div');\n",
              "          docLink.innerHTML = docLinkHtml;\n",
              "          element.appendChild(docLink);\n",
              "        }\n",
              "      </script>\n",
              "    </div>\n",
              "  </div>\n",
              "  "
            ],
            "text/plain": [
              "        id  season           city        date                        team1  \\\n",
              "1        2    2017           Pune  2017-04-06               Mumbai Indians   \n",
              "2        3    2017         Rajkot  2017-04-07                Gujarat Lions   \n",
              "3        4    2017         Indore  2017-04-08       Rising Pune Supergiant   \n",
              "4        5    2017      Bangalore  2017-04-08  Royal Challengers Bangalore   \n",
              "5        6    2017      Hyderabad  2017-04-09                Gujarat Lions   \n",
              "..     ...     ...            ...         ...                          ...   \n",
              "750  11346    2019         Mohali    05/05/19          Chennai Super Kings   \n",
              "751  11347    2019         Mumbai    05/05/19        Kolkata Knight Riders   \n",
              "753  11413    2019  Visakhapatnam    08/05/19          Sunrisers Hyderabad   \n",
              "754  11414    2019  Visakhapatnam    10/05/19               Delhi Capitals   \n",
              "755  11415    2019      Hyderabad    12/05/19               Mumbai Indians   \n",
              "\n",
              "                      team2                  toss_winner toss_decision  \\\n",
              "1    Rising Pune Supergiant       Rising Pune Supergiant         field   \n",
              "2     Kolkata Knight Riders        Kolkata Knight Riders         field   \n",
              "3           Kings XI Punjab              Kings XI Punjab         field   \n",
              "4            Delhi Capitals  Royal Challengers Bangalore           bat   \n",
              "5       Sunrisers Hyderabad          Sunrisers Hyderabad         field   \n",
              "..                      ...                          ...           ...   \n",
              "750         Kings XI Punjab              Kings XI Punjab         field   \n",
              "751          Mumbai Indians               Mumbai Indians         field   \n",
              "753          Delhi Capitals               Delhi Capitals         field   \n",
              "754     Chennai Super Kings          Chennai Super Kings         field   \n",
              "755     Chennai Super Kings               Mumbai Indians           bat   \n",
              "\n",
              "     result  dl_applied                       winner  win_by_runs  \\\n",
              "1    normal           0       Rising Pune Supergiant            0   \n",
              "2    normal           0        Kolkata Knight Riders            0   \n",
              "3    normal           0              Kings XI Punjab            0   \n",
              "4    normal           0  Royal Challengers Bangalore           15   \n",
              "5    normal           0          Sunrisers Hyderabad            0   \n",
              "..      ...         ...                          ...          ...   \n",
              "750  normal           0              Kings XI Punjab            0   \n",
              "751  normal           0               Mumbai Indians            0   \n",
              "753  normal           0               Delhi Capitals            0   \n",
              "754  normal           0          Chennai Super Kings            0   \n",
              "755  normal           0               Mumbai Indians            1   \n",
              "\n",
              "     win_by_wickets player_of_match  \\\n",
              "1                 7       SPD Smith   \n",
              "2                10         CA Lynn   \n",
              "3                 6      GJ Maxwell   \n",
              "4                 0       KM Jadhav   \n",
              "5                 9     Rashid Khan   \n",
              "..              ...             ...   \n",
              "750               6        KL Rahul   \n",
              "751               9       HH Pandya   \n",
              "753               2         RR Pant   \n",
              "754               6    F du Plessis   \n",
              "755               0       JJ Bumrah   \n",
              "\n",
              "                                         venue                umpire1  \\\n",
              "1      Maharashtra Cricket Association Stadium         A Nand Kishore   \n",
              "2       Saurashtra Cricket Association Stadium            Nitin Menon   \n",
              "3                       Holkar Cricket Stadium           AK Chaudhary   \n",
              "4                        M Chinnaswamy Stadium                    NaN   \n",
              "5    Rajiv Gandhi International Stadium, Uppal             A Deshmukh   \n",
              "..                                         ...                    ...   \n",
              "750                          IS Bindra Stadium  KN Ananthapadmanabhan   \n",
              "751                           Wankhede Stadium          Nanda Kishore   \n",
              "753                           ACA-VDCA Stadium                    NaN   \n",
              "754                           ACA-VDCA Stadium          Sundaram Ravi   \n",
              "755         Rajiv Gandhi Intl. Cricket Stadium            Nitin Menon   \n",
              "\n",
              "            umpire2                  umpire3  \n",
              "1            S Ravi                      NaN  \n",
              "2         CK Nandan                      NaN  \n",
              "3     C Shamshuddin                      NaN  \n",
              "4               NaN                      NaN  \n",
              "5          NJ Llong                      NaN  \n",
              "..              ...                      ...  \n",
              "750   C Shamshuddin           Bruce Oxenford  \n",
              "751        O Nandan                   S Ravi  \n",
              "753             NaN                      NaN  \n",
              "754  Bruce Oxenford  Chettithody Shamshuddin  \n",
              "755       Ian Gould              Nigel Llong  \n",
              "\n",
              "[388 rows x 18 columns]"
            ]
          },
          "execution_count": 31,
          "metadata": {},
          "output_type": "execute_result"
        }
      ],
      "source": [
        "toss_match_winner_df = match_ds[match_ds['toss_winner']==match_ds['winner']] # generating dataframe where the toss winner and match winner are same\n",
        "toss_match_winner_df = toss_match_winner_df[toss_match_winner_df.result != 'tie'] # make sure the match result does not tie\n",
        "toss_match_winner_df"
      ]
    },
    {
      "cell_type": "code",
      "execution_count": null,
      "id": "bcd6267c",
      "metadata": {
        "colab": {
          "base_uri": "https://localhost:8080/",
          "height": 457
        },
        "id": "bcd6267c",
        "outputId": "eb0543cb-5eb7-4f06-bdb4-ecbce5276fcf"
      },
      "outputs": [
        {
          "data": {
            "text/html": [
              "\n",
              "  <div id=\"df-b36c7c4c-d20d-4a50-8967-c0a6184145a1\">\n",
              "    <div class=\"colab-df-container\">\n",
              "      <div>\n",
              "<style scoped>\n",
              "    .dataframe tbody tr th:only-of-type {\n",
              "        vertical-align: middle;\n",
              "    }\n",
              "\n",
              "    .dataframe tbody tr th {\n",
              "        vertical-align: top;\n",
              "    }\n",
              "\n",
              "    .dataframe thead th {\n",
              "        text-align: right;\n",
              "    }\n",
              "</style>\n",
              "<table border=\"1\" class=\"dataframe\">\n",
              "  <thead>\n",
              "    <tr style=\"text-align: right;\">\n",
              "      <th></th>\n",
              "      <th>team1</th>\n",
              "      <th>No.of times the team won both toss and match</th>\n",
              "    </tr>\n",
              "  </thead>\n",
              "  <tbody>\n",
              "    <tr>\n",
              "      <th>0</th>\n",
              "      <td>Chennai Super Kings</td>\n",
              "      <td>89</td>\n",
              "    </tr>\n",
              "    <tr>\n",
              "      <th>1</th>\n",
              "      <td>Deccan Chargers</td>\n",
              "      <td>43</td>\n",
              "    </tr>\n",
              "    <tr>\n",
              "      <th>2</th>\n",
              "      <td>Delhi Capitals</td>\n",
              "      <td>78</td>\n",
              "    </tr>\n",
              "    <tr>\n",
              "      <th>3</th>\n",
              "      <td>Gujarat Lions</td>\n",
              "      <td>14</td>\n",
              "    </tr>\n",
              "    <tr>\n",
              "      <th>4</th>\n",
              "      <td>Kings XI Punjab</td>\n",
              "      <td>91</td>\n",
              "    </tr>\n",
              "    <tr>\n",
              "      <th>5</th>\n",
              "      <td>Kochi Tuskers Kerala</td>\n",
              "      <td>7</td>\n",
              "    </tr>\n",
              "    <tr>\n",
              "      <th>6</th>\n",
              "      <td>Kolkata Knight Riders</td>\n",
              "      <td>83</td>\n",
              "    </tr>\n",
              "    <tr>\n",
              "      <th>7</th>\n",
              "      <td>Mumbai Indians</td>\n",
              "      <td>101</td>\n",
              "    </tr>\n",
              "    <tr>\n",
              "      <th>8</th>\n",
              "      <td>Pune Warriors</td>\n",
              "      <td>20</td>\n",
              "    </tr>\n",
              "    <tr>\n",
              "      <th>9</th>\n",
              "      <td>Rajasthan Royals</td>\n",
              "      <td>67</td>\n",
              "    </tr>\n",
              "    <tr>\n",
              "      <th>10</th>\n",
              "      <td>Rising Pune Supergiant</td>\n",
              "      <td>15</td>\n",
              "    </tr>\n",
              "    <tr>\n",
              "      <th>11</th>\n",
              "      <td>Royal Challengers Bangalore</td>\n",
              "      <td>85</td>\n",
              "    </tr>\n",
              "    <tr>\n",
              "      <th>12</th>\n",
              "      <td>Sunrisers Hyderabad</td>\n",
              "      <td>63</td>\n",
              "    </tr>\n",
              "  </tbody>\n",
              "</table>\n",
              "</div>\n",
              "      <button class=\"colab-df-convert\" onclick=\"convertToInteractive('df-b36c7c4c-d20d-4a50-8967-c0a6184145a1')\"\n",
              "              title=\"Convert this dataframe to an interactive table.\"\n",
              "              style=\"display:none;\">\n",
              "        \n",
              "  <svg xmlns=\"http://www.w3.org/2000/svg\" height=\"24px\"viewBox=\"0 0 24 24\"\n",
              "       width=\"24px\">\n",
              "    <path d=\"M0 0h24v24H0V0z\" fill=\"none\"/>\n",
              "    <path d=\"M18.56 5.44l.94 2.06.94-2.06 2.06-.94-2.06-.94-.94-2.06-.94 2.06-2.06.94zm-11 1L8.5 8.5l.94-2.06 2.06-.94-2.06-.94L8.5 2.5l-.94 2.06-2.06.94zm10 10l.94 2.06.94-2.06 2.06-.94-2.06-.94-.94-2.06-.94 2.06-2.06.94z\"/><path d=\"M17.41 7.96l-1.37-1.37c-.4-.4-.92-.59-1.43-.59-.52 0-1.04.2-1.43.59L10.3 9.45l-7.72 7.72c-.78.78-.78 2.05 0 2.83L4 21.41c.39.39.9.59 1.41.59.51 0 1.02-.2 1.41-.59l7.78-7.78 2.81-2.81c.8-.78.8-2.07 0-2.86zM5.41 20L4 18.59l7.72-7.72 1.47 1.35L5.41 20z\"/>\n",
              "  </svg>\n",
              "      </button>\n",
              "      \n",
              "  <style>\n",
              "    .colab-df-container {\n",
              "      display:flex;\n",
              "      flex-wrap:wrap;\n",
              "      gap: 12px;\n",
              "    }\n",
              "\n",
              "    .colab-df-convert {\n",
              "      background-color: #E8F0FE;\n",
              "      border: none;\n",
              "      border-radius: 50%;\n",
              "      cursor: pointer;\n",
              "      display: none;\n",
              "      fill: #1967D2;\n",
              "      height: 32px;\n",
              "      padding: 0 0 0 0;\n",
              "      width: 32px;\n",
              "    }\n",
              "\n",
              "    .colab-df-convert:hover {\n",
              "      background-color: #E2EBFA;\n",
              "      box-shadow: 0px 1px 2px rgba(60, 64, 67, 0.3), 0px 1px 3px 1px rgba(60, 64, 67, 0.15);\n",
              "      fill: #174EA6;\n",
              "    }\n",
              "\n",
              "    [theme=dark] .colab-df-convert {\n",
              "      background-color: #3B4455;\n",
              "      fill: #D2E3FC;\n",
              "    }\n",
              "\n",
              "    [theme=dark] .colab-df-convert:hover {\n",
              "      background-color: #434B5C;\n",
              "      box-shadow: 0px 1px 3px 1px rgba(0, 0, 0, 0.15);\n",
              "      filter: drop-shadow(0px 1px 2px rgba(0, 0, 0, 0.3));\n",
              "      fill: #FFFFFF;\n",
              "    }\n",
              "  </style>\n",
              "\n",
              "      <script>\n",
              "        const buttonEl =\n",
              "          document.querySelector('#df-b36c7c4c-d20d-4a50-8967-c0a6184145a1 button.colab-df-convert');\n",
              "        buttonEl.style.display =\n",
              "          google.colab.kernel.accessAllowed ? 'block' : 'none';\n",
              "\n",
              "        async function convertToInteractive(key) {\n",
              "          const element = document.querySelector('#df-b36c7c4c-d20d-4a50-8967-c0a6184145a1');\n",
              "          const dataTable =\n",
              "            await google.colab.kernel.invokeFunction('convertToInteractive',\n",
              "                                                     [key], {});\n",
              "          if (!dataTable) return;\n",
              "\n",
              "          const docLinkHtml = 'Like what you see? Visit the ' +\n",
              "            '<a target=\"_blank\" href=https://colab.research.google.com/notebooks/data_table.ipynb>data table notebook</a>'\n",
              "            + ' to learn more about interactive tables.';\n",
              "          element.innerHTML = '';\n",
              "          dataTable['output_type'] = 'display_data';\n",
              "          await google.colab.output.renderOutput(dataTable, element);\n",
              "          const docLink = document.createElement('div');\n",
              "          docLink.innerHTML = docLinkHtml;\n",
              "          element.appendChild(docLink);\n",
              "        }\n",
              "      </script>\n",
              "    </div>\n",
              "  </div>\n",
              "  "
            ],
            "text/plain": [
              "                          team1  No.of times the team won both toss and match\n",
              "0           Chennai Super Kings                                            89\n",
              "1               Deccan Chargers                                            43\n",
              "2                Delhi Capitals                                            78\n",
              "3                 Gujarat Lions                                            14\n",
              "4               Kings XI Punjab                                            91\n",
              "5          Kochi Tuskers Kerala                                             7\n",
              "6         Kolkata Knight Riders                                            83\n",
              "7                Mumbai Indians                                           101\n",
              "8                 Pune Warriors                                            20\n",
              "9              Rajasthan Royals                                            67\n",
              "10       Rising Pune Supergiant                                            15\n",
              "11  Royal Challengers Bangalore                                            85\n",
              "12          Sunrisers Hyderabad                                            63"
            ]
          },
          "execution_count": 32,
          "metadata": {},
          "output_type": "execute_result"
        }
      ],
      "source": [
        "team_winning_toss_df = match_ds.groupby(['team1']).apply(lambda x:x['toss_decision'].count()).reset_index(name = 'No.of times the team won both toss and match')\n",
        "team_winning_toss_df # grouping team1 from team_winning_toss_df by toss decision"
      ]
    },
    {
      "cell_type": "markdown",
      "id": "2e3dc9b3",
      "metadata": {
        "id": "2e3dc9b3"
      },
      "source": [
        "### We can deduce from the preceding table that Mumbai Indians made the better toss decision."
      ]
    },
    {
      "cell_type": "code",
      "execution_count": null,
      "id": "40f4ecbf",
      "metadata": {
        "colab": {
          "base_uri": "https://localhost:8080/",
          "height": 899
        },
        "id": "40f4ecbf",
        "outputId": "2b68da41-9b6e-4007-fcd7-033c398aba04"
      },
      "outputs": [
        {
          "data": {
            "image/png": "[encoded data removed]",
            "text/plain": [
              "<Figure size 360x1080 with 2 Axes>"
            ]
          },
          "metadata": {
            "needs_background": "light"
          },
          "output_type": "display_data"
        }
      ],
      "source": [
        "team_winning_toss_df = match_ds.groupby(['team1','toss_decision']).apply(lambda x:x['toss_decision'].count()).reset_index(name = 'toss decision counts')\n",
        "# slightly modifying it by grouping under toss decision\n",
        "heatmap_for_data = pd.pivot_table(team_winning_toss_df, values = 'toss decision counts',\n",
        "                                 index = ['team1'],\n",
        "                                 columns = 'toss_decision')\n",
        "# generating heatmap\n",
        "fig_plt,axis = plt.subplots(1,1,figsize = (5,15))\n",
        "heat_map_lead = sns.heatmap(heatmap_for_data,annot =True) \n",
        "heat_map_lead.xaxis.set_ticks_position(\"top\") # position for ticks\n",
        "axis.set_title(\"The toss Winning After Bat or Field Choose Option\",size = 20);"
      ]
    },
    {
      "cell_type": "markdown",
      "id": "2bcb4422",
      "metadata": {
        "id": "2bcb4422"
      },
      "source": [
        "### We can deduce what each team's strength is based on this heatmap, whether it was Bat or Field.\n",
        "<hr style=\"border:2px solid gray\">"
      ]
    },
    {
      "cell_type": "markdown",
      "id": "9f723934",
      "metadata": {
        "id": "9f723934"
      },
      "source": [
        "### The 'Location of the Match' is another important factor that contributes to a team's victory or loss."
      ]
    },
    {
      "cell_type": "code",
      "execution_count": null,
      "id": "e015e38f",
      "metadata": {
        "colab": {
          "base_uri": "https://localhost:8080/",
          "height": 1000
        },
        "id": "e015e38f",
        "outputId": "c664d27b-ebcb-4b92-bc8e-9092f8ca77de"
      },
      "outputs": [
        {
          "data": {
            "text/html": [
              "<div>\n",
              "<style scoped>\n",
              "    .dataframe tbody tr th:only-of-type {\n",
              "        vertical-align: middle;\n",
              "    }\n",
              "\n",
              "    .dataframe tbody tr th {\n",
              "        vertical-align: top;\n",
              "    }\n",
              "\n",
              "    .dataframe thead th {\n",
              "        text-align: right;\n",
              "    }\n",
              "</style>\n",
              "<table border=\"1\" class=\"dataframe\">\n",
              "  <thead>\n",
              "    <tr style=\"text-align: right;\">\n",
              "      <th></th>\n",
              "      <th>Location</th>\n",
              "      <th>No. of matches held in the city</th>\n",
              "    </tr>\n",
              "  </thead>\n",
              "  <tbody>\n",
              "    <tr>\n",
              "      <th>0</th>\n",
              "      <td>Mumbai</td>\n",
              "      <td>101</td>\n",
              "    </tr>\n",
              "    <tr>\n",
              "      <th>1</th>\n",
              "      <td>Kolkata</td>\n",
              "      <td>77</td>\n",
              "    </tr>\n",
              "    <tr>\n",
              "      <th>2</th>\n",
              "      <td>Delhi</td>\n",
              "      <td>73</td>\n",
              "    </tr>\n",
              "    <tr>\n",
              "      <th>3</th>\n",
              "      <td>Bangalore</td>\n",
              "      <td>64</td>\n",
              "    </tr>\n",
              "    <tr>\n",
              "      <th>4</th>\n",
              "      <td>Hyderabad</td>\n",
              "      <td>64</td>\n",
              "    </tr>\n",
              "    <tr>\n",
              "      <th>5</th>\n",
              "      <td>Chennai</td>\n",
              "      <td>57</td>\n",
              "    </tr>\n",
              "    <tr>\n",
              "      <th>6</th>\n",
              "      <td>Jaipur</td>\n",
              "      <td>47</td>\n",
              "    </tr>\n",
              "    <tr>\n",
              "      <th>7</th>\n",
              "      <td>Chandigarh</td>\n",
              "      <td>46</td>\n",
              "    </tr>\n",
              "    <tr>\n",
              "      <th>8</th>\n",
              "      <td>Pune</td>\n",
              "      <td>38</td>\n",
              "    </tr>\n",
              "    <tr>\n",
              "      <th>9</th>\n",
              "      <td>Durban</td>\n",
              "      <td>15</td>\n",
              "    </tr>\n",
              "    <tr>\n",
              "      <th>10</th>\n",
              "      <td>Visakhapatnam</td>\n",
              "      <td>13</td>\n",
              "    </tr>\n",
              "    <tr>\n",
              "      <th>11</th>\n",
              "      <td>Bengaluru</td>\n",
              "      <td>13</td>\n",
              "    </tr>\n",
              "    <tr>\n",
              "      <th>12</th>\n",
              "      <td>Centurion</td>\n",
              "      <td>12</td>\n",
              "    </tr>\n",
              "    <tr>\n",
              "      <th>13</th>\n",
              "      <td>Ahmedabad</td>\n",
              "      <td>12</td>\n",
              "    </tr>\n",
              "    <tr>\n",
              "      <th>14</th>\n",
              "      <td>Mohali</td>\n",
              "      <td>10</td>\n",
              "    </tr>\n",
              "    <tr>\n",
              "      <th>15</th>\n",
              "      <td>Rajkot</td>\n",
              "      <td>10</td>\n",
              "    </tr>\n",
              "    <tr>\n",
              "      <th>16</th>\n",
              "      <td>Dharamsala</td>\n",
              "      <td>9</td>\n",
              "    </tr>\n",
              "    <tr>\n",
              "      <th>17</th>\n",
              "      <td>Indore</td>\n",
              "      <td>9</td>\n",
              "    </tr>\n",
              "    <tr>\n",
              "      <th>18</th>\n",
              "      <td>Johannesburg</td>\n",
              "      <td>8</td>\n",
              "    </tr>\n",
              "    <tr>\n",
              "      <th>19</th>\n",
              "      <td>Ranchi</td>\n",
              "      <td>7</td>\n",
              "    </tr>\n",
              "    <tr>\n",
              "      <th>20</th>\n",
              "      <td>Port Elizabeth</td>\n",
              "      <td>7</td>\n",
              "    </tr>\n",
              "    <tr>\n",
              "      <th>21</th>\n",
              "      <td>Cape Town</td>\n",
              "      <td>7</td>\n",
              "    </tr>\n",
              "    <tr>\n",
              "      <th>22</th>\n",
              "      <td>Cuttack</td>\n",
              "      <td>7</td>\n",
              "    </tr>\n",
              "    <tr>\n",
              "      <th>23</th>\n",
              "      <td>Abu Dhabi</td>\n",
              "      <td>7</td>\n",
              "    </tr>\n",
              "    <tr>\n",
              "      <th>24</th>\n",
              "      <td>Raipur</td>\n",
              "      <td>6</td>\n",
              "    </tr>\n",
              "    <tr>\n",
              "      <th>25</th>\n",
              "      <td>Sharjah</td>\n",
              "      <td>6</td>\n",
              "    </tr>\n",
              "    <tr>\n",
              "      <th>26</th>\n",
              "      <td>Kochi</td>\n",
              "      <td>5</td>\n",
              "    </tr>\n",
              "    <tr>\n",
              "      <th>27</th>\n",
              "      <td>Kanpur</td>\n",
              "      <td>4</td>\n",
              "    </tr>\n",
              "    <tr>\n",
              "      <th>28</th>\n",
              "      <td>Nagpur</td>\n",
              "      <td>3</td>\n",
              "    </tr>\n",
              "    <tr>\n",
              "      <th>29</th>\n",
              "      <td>Kimberley</td>\n",
              "      <td>3</td>\n",
              "    </tr>\n",
              "    <tr>\n",
              "      <th>30</th>\n",
              "      <td>East London</td>\n",
              "      <td>3</td>\n",
              "    </tr>\n",
              "    <tr>\n",
              "      <th>31</th>\n",
              "      <td>Bloemfontein</td>\n",
              "      <td>2</td>\n",
              "    </tr>\n",
              "  </tbody>\n",
              "</table>\n",
              "</div>"
            ],
            "text/plain": [
              "          Location  No. of matches held in the city\n",
              "0           Mumbai                              101\n",
              "1          Kolkata                               77\n",
              "2            Delhi                               73\n",
              "3        Bangalore                               64\n",
              "4        Hyderabad                               64\n",
              "5          Chennai                               57\n",
              "6           Jaipur                               47\n",
              "7       Chandigarh                               46\n",
              "8             Pune                               38\n",
              "9           Durban                               15\n",
              "10   Visakhapatnam                               13\n",
              "11       Bengaluru                               13\n",
              "12       Centurion                               12\n",
              "13       Ahmedabad                               12\n",
              "14          Mohali                               10\n",
              "15          Rajkot                               10\n",
              "16      Dharamsala                                9\n",
              "17          Indore                                9\n",
              "18    Johannesburg                                8\n",
              "19          Ranchi                                7\n",
              "20  Port Elizabeth                                7\n",
              "21       Cape Town                                7\n",
              "22         Cuttack                                7\n",
              "23       Abu Dhabi                                7\n",
              "24          Raipur                                6\n",
              "25         Sharjah                                6\n",
              "26           Kochi                                5\n",
              "27          Kanpur                                4\n",
              "28          Nagpur                                3\n",
              "29       Kimberley                                3\n",
              "30     East London                                3\n",
              "31    Bloemfontein                                2"
            ]
          },
          "execution_count": 27,
          "metadata": {},
          "output_type": "execute_result"
        }
      ],
      "source": [
        "Location = match_ds.groupby('city')[['winner']].count() #grouping no. of winner in every city  \n",
        "Location=Location.sort_values(by='winner',ascending=False).reset_index()\n",
        "Location.rename(columns={'city':'Location','winner':'No. of matches held in the city'},inplace=True)\n",
        "Location"
      ]
    },
    {
      "cell_type": "code",
      "execution_count": null,
      "id": "07de7438",
      "metadata": {
        "colab": {
          "base_uri": "https://localhost:8080/",
          "height": 636
        },
        "id": "07de7438",
        "outputId": "236ed142-d43e-4264-d3be-708aca370575"
      },
      "outputs": [
        {
          "data": {
            "text/plain": [
              "<matplotlib.axes._subplots.AxesSubplot at 0x7fc0186ac150>"
            ]
          },
          "execution_count": 36,
          "metadata": {},
          "output_type": "execute_result"
        },
        {
          "data": {
            "image/png": "[encoded data removed]",
            "text/plain": [
              "<Figure size 1080x648 with 1 Axes>"
            ]
          },
          "metadata": {
            "needs_background": "light"
          },
          "output_type": "display_data"
        }
      ],
      "source": [
        "plt.figure(figsize=(15,9))\n",
        "plt.xticks(fontsize=10,rotation=45)\n",
        "plt.title(\"The number of matches played in the city\")\n",
        "sns.barplot(y = Location['No. of matches held in the city'],x=Location.Location)"
      ]
    },
    {
      "cell_type": "markdown",
      "id": "4eef1d76",
      "metadata": {
        "id": "4eef1d76"
      },
      "source": [
        "## Thisbar graph indicates that the most important cities for IPL matches are MUMBAI, KOLKATA, DELHI, BANGALORE, HYDERABAD, and CHENNAI.Every team must prepare for a game in this major city and at a significant stadium.\n",
        "<hr style=\"border:2px solid gray\">"
      ]
    },
    {
      "cell_type": "markdown",
      "id": "6ca734ea",
      "metadata": {
        "id": "6ca734ea"
      },
      "source": [
        "## RESULT:\n",
        "   > ## CHENNAI SUPER KINGS and MUMBAI INDIANS are the most successful teams in IPL history.\n",
        "   > ## MS Dhoni, AB de Villiers, RG Sharma, and V Kohli are the most successful players in IPL history.\n",
        "   > ## The Toss decision and City in which the game was played are two major factors that contibute to a team's victory and defect.\n",
        "   > ## I would recommend that a company to choose \"MS DHONI,\" \"V KOHLI,\" and \"RG Sharma\" to support its products because of their large fan bases ."
      ]
    },
    {
      "cell_type": "markdown",
      "id": "3pHbq7XcSHZZ",
      "metadata": {
        "id": "3pHbq7XcSHZZ"
      },
      "source": [
        "## **Thank You**"
      ]
    }
  ],
  "metadata": {
    "colab": {
      "collapsed_sections": [],
      "name": "GRIP task-1 Sports EDA.ipynb",
      "provenance": [],
      "include_colab_link": true
    },
    "kernelspec": {
      "display_name": "Python 3",
      "language": "python",
      "name": "python3"
    },
    "language_info": {
      "codemirror_mode": {
        "name": "ipython",
        "version": 3
      },
      "file_extension": ".py",
      "mimetype": "text/x-python",
      "name": "python",
      "nbconvert_exporter": "python",
      "pygments_lexer": "ipython3",
      "version": "3.8.8"
    }
  },
  "nbformat": 4,
  "nbformat_minor": 5
}